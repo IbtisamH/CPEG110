{
 "cells": [
  {
   "cell_type": "markdown",
   "metadata": {},
   "source": [
    "# Exercise Searching"
   ]
  },
  {
   "cell_type": "code",
   "execution_count": null,
   "metadata": {},
   "outputs": [],
   "source": [
    "# 1. Rewrite the linear search program using while loop "
   ]
  },
  {
   "cell_type": "code",
   "execution_count": 6,
   "metadata": {},
   "outputs": [],
   "source": [
    "# 2. Rewrite the binary search program using recursive function\n",
    "def binSearch(lst, element):\n",
    "    low = 0\n",
    "    high = len(lst)\n",
    "    mid = (low+high)//2\n",
    "    print(lst[mid])\n",
    "    if lst[mid] == element:\n",
    "        return mid\n",
    "    elif lst[mid]>element:\n",
    "        binSearch(lst[low:mid], element)\n",
    "    else:\n",
    "        binSearch(lst[mid+1:high], element)"
   ]
  },
  {
   "cell_type": "code",
   "execution_count": 7,
   "metadata": {},
   "outputs": [
    {
     "name": "stdout",
     "output_type": "stream",
     "text": [
      "50000000\n",
      "75000001\n",
      "87500001\n",
      "93750001\n",
      "96875001\n",
      "98437501\n",
      "99218751\n",
      "99609376\n",
      "99804689\n",
      "99902345\n",
      "99951173\n",
      "99975587\n",
      "99987794\n",
      "99993898\n",
      "99996950\n",
      "99998476\n",
      "99999239\n",
      "99999620\n",
      "99999811\n",
      "99999906\n",
      "99999954\n",
      "99999978\n",
      "99999990\n",
      "99999996\n",
      "99999999\n",
      "100000000\n"
     ]
    }
   ],
   "source": [
    "x = [1,2,3,4,5,6,7,8,9]\n",
    "binSearch(lst,100000000)"
   ]
  },
  {
   "cell_type": "code",
   "execution_count": null,
   "metadata": {},
   "outputs": [],
   "source": []
  },
  {
   "cell_type": "code",
   "execution_count": 14,
   "metadata": {},
   "outputs": [],
   "source": [
    "def binary_search_recursive(arr, elem, start=0, end=None):\n",
    "    if end is None:\n",
    "        end = len(arr) - 1\n",
    "    if start > end:\n",
    "        return False\n",
    "\n",
    "    mid = (start + end) // 2\n",
    "    if elem == arr[mid]:\n",
    "        return mid\n",
    "    if elem < arr[mid]:\n",
    "        return binary_search_recursive(arr, elem, start, mid-1)\n",
    "    # elem > arr[mid]\n",
    "    return binary_search_recursive(arr, elem, mid+1, end)"
   ]
  },
  {
   "cell_type": "code",
   "execution_count": 1,
   "metadata": {},
   "outputs": [],
   "source": [
    "lst = [x for x in range(100000001)]"
   ]
  },
  {
   "cell_type": "code",
   "execution_count": 15,
   "metadata": {},
   "outputs": [
    {
     "name": "stdout",
     "output_type": "stream",
     "text": [
      "0.0\n"
     ]
    }
   ],
   "source": [
    "import time\n",
    "\n",
    "start = time.time()\n",
    "binary_search_recursive(lst, 100000000)\n",
    "end = time.time()\n",
    "print(end - start)"
   ]
  },
  {
   "cell_type": "code",
   "execution_count": null,
   "metadata": {},
   "outputs": [],
   "source": [
    "# 3. Write a program that compares the execution time of different \n",
    "# searching techniques (membership operator, linear search, binary search)"
   ]
  }
 ],
 "metadata": {
  "kernelspec": {
   "display_name": "Python 3",
   "language": "python",
   "name": "python3"
  },
  "language_info": {
   "codemirror_mode": {
    "name": "ipython",
    "version": 3
   },
   "file_extension": ".py",
   "mimetype": "text/x-python",
   "name": "python",
   "nbconvert_exporter": "python",
   "pygments_lexer": "ipython3",
   "version": "3.7.4"
  }
 },
 "nbformat": 4,
 "nbformat_minor": 2
}
