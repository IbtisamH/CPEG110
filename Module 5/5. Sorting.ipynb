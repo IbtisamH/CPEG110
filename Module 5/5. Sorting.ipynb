{
 "cells": [
  {
   "cell_type": "markdown",
   "metadata": {},
   "source": [
    "# Sorting\n",
    "* Sorting is an important problem in computer science as it is required by many application domains\n",
    "* Designing simple sorting algorithm is very easy but can be very expensive in terms of comput time\n",
    "* Advance algorithms are deficult but are more efficient\n",
    "* Can you think of simple sorting algorithm\n",
    "* Write code for the following\n",
    "* Simple sorting (Pseudo-code)\n",
    "\n",
    "    1.  Input list of items (A)\n",
    "    2.  Create an empty list (B) for storing the sorted items\n",
    "    3.  Iterate through the list (A)\n",
    "    4.  Find smallest item in list (A)\n",
    "    5.  Remove it from the list (A)\n",
    "    6.  Insert it into B\n",
    "    7.  Go to step 3 "
   ]
  },
  {
   "cell_type": "code",
   "execution_count": null,
   "metadata": {},
   "outputs": [],
   "source": []
  },
  {
   "cell_type": "code",
   "execution_count": null,
   "metadata": {},
   "outputs": [],
   "source": []
  },
  {
   "cell_type": "code",
   "execution_count": null,
   "metadata": {},
   "outputs": [],
   "source": []
  },
  {
   "cell_type": "code",
   "execution_count": null,
   "metadata": {},
   "outputs": [],
   "source": []
  },
  {
   "cell_type": "code",
   "execution_count": null,
   "metadata": {},
   "outputs": [],
   "source": []
  },
  {
   "cell_type": "code",
   "execution_count": 1,
   "metadata": {},
   "outputs": [],
   "source": [
    "def simpleSorting(A):\n",
    "    B = []\n",
    "    for i in range(len(A)):\n",
    "        small = float('inf')\n",
    "        index = -1\n",
    "        for j in range(len(A)):\n",
    "            if A[j] <= small :\n",
    "                small = A[j]\n",
    "                index = j\n",
    "        B.append(small)\n",
    "        print('List B: ',B)\n",
    "        del A[index]\n",
    "        print('List A: ',A)\n",
    "    return B"
   ]
  },
  {
   "cell_type": "code",
   "execution_count": 2,
   "metadata": {},
   "outputs": [
    {
     "name": "stdout",
     "output_type": "stream",
     "text": [
      "List B:  [0]\n",
      "List A:  [5, 4, 3, 2, 1]\n",
      "List B:  [0, 1]\n",
      "List A:  [5, 4, 3, 2]\n",
      "List B:  [0, 1, 2]\n",
      "List A:  [5, 4, 3]\n",
      "List B:  [0, 1, 2, 3]\n",
      "List A:  [5, 4]\n",
      "List B:  [0, 1, 2, 3, 4]\n",
      "List A:  [5]\n",
      "List B:  [0, 1, 2, 3, 4, 5]\n",
      "List A:  []\n",
      "[0, 1, 2, 3, 4, 5]\n",
      "[]\n"
     ]
    }
   ],
   "source": [
    "lst = [5,4,3,2,1,0]\n",
    "x = simpleSorting(lst)\n",
    "print(x)\n",
    "print(lst)\n"
   ]
  },
  {
   "cell_type": "markdown",
   "metadata": {},
   "source": [
    "# Bubble Sort"
   ]
  },
  {
   "cell_type": "code",
   "execution_count": 16,
   "metadata": {},
   "outputs": [],
   "source": [
    "def bubbleSort(arr):\n",
    "    n = len(arr)\n",
    "    print(\"Input Array--> \", arr)\n",
    "    # Traverse through all array elements\n",
    "    for i in range(n):\n",
    " \n",
    "        # Last i elements are already in place\n",
    "        for j in range(0, n-i-1):\n",
    "            # traverse the array from 0 to n-i-1\n",
    "            # Swap if the element found is greater\n",
    "            # than the next element\n",
    "            if arr[j] > arr[j+1] :\n",
    "                arr[j], arr[j+1] = arr[j+1], arr[j]\n",
    "                print(arr)"
   ]
  },
  {
   "cell_type": "code",
   "execution_count": 17,
   "metadata": {},
   "outputs": [
    {
     "name": "stdout",
     "output_type": "stream",
     "text": [
      "Input Array-->  [9, 8, 7, 6, 5, 4, 3, 2, 1, 0]\n",
      "[8, 9, 7, 6, 5, 4, 3, 2, 1, 0]\n",
      "[8, 7, 9, 6, 5, 4, 3, 2, 1, 0]\n",
      "[8, 7, 6, 9, 5, 4, 3, 2, 1, 0]\n",
      "[8, 7, 6, 5, 9, 4, 3, 2, 1, 0]\n",
      "[8, 7, 6, 5, 4, 9, 3, 2, 1, 0]\n",
      "[8, 7, 6, 5, 4, 3, 9, 2, 1, 0]\n",
      "[8, 7, 6, 5, 4, 3, 2, 9, 1, 0]\n",
      "[8, 7, 6, 5, 4, 3, 2, 1, 9, 0]\n",
      "[8, 7, 6, 5, 4, 3, 2, 1, 0, 9]\n",
      "[7, 8, 6, 5, 4, 3, 2, 1, 0, 9]\n",
      "[7, 6, 8, 5, 4, 3, 2, 1, 0, 9]\n",
      "[7, 6, 5, 8, 4, 3, 2, 1, 0, 9]\n",
      "[7, 6, 5, 4, 8, 3, 2, 1, 0, 9]\n",
      "[7, 6, 5, 4, 3, 8, 2, 1, 0, 9]\n",
      "[7, 6, 5, 4, 3, 2, 8, 1, 0, 9]\n",
      "[7, 6, 5, 4, 3, 2, 1, 8, 0, 9]\n",
      "[7, 6, 5, 4, 3, 2, 1, 0, 8, 9]\n",
      "[6, 7, 5, 4, 3, 2, 1, 0, 8, 9]\n",
      "[6, 5, 7, 4, 3, 2, 1, 0, 8, 9]\n",
      "[6, 5, 4, 7, 3, 2, 1, 0, 8, 9]\n",
      "[6, 5, 4, 3, 7, 2, 1, 0, 8, 9]\n",
      "[6, 5, 4, 3, 2, 7, 1, 0, 8, 9]\n",
      "[6, 5, 4, 3, 2, 1, 7, 0, 8, 9]\n",
      "[6, 5, 4, 3, 2, 1, 0, 7, 8, 9]\n",
      "[5, 6, 4, 3, 2, 1, 0, 7, 8, 9]\n",
      "[5, 4, 6, 3, 2, 1, 0, 7, 8, 9]\n",
      "[5, 4, 3, 6, 2, 1, 0, 7, 8, 9]\n",
      "[5, 4, 3, 2, 6, 1, 0, 7, 8, 9]\n",
      "[5, 4, 3, 2, 1, 6, 0, 7, 8, 9]\n",
      "[5, 4, 3, 2, 1, 0, 6, 7, 8, 9]\n",
      "[4, 5, 3, 2, 1, 0, 6, 7, 8, 9]\n",
      "[4, 3, 5, 2, 1, 0, 6, 7, 8, 9]\n",
      "[4, 3, 2, 5, 1, 0, 6, 7, 8, 9]\n",
      "[4, 3, 2, 1, 5, 0, 6, 7, 8, 9]\n",
      "[4, 3, 2, 1, 0, 5, 6, 7, 8, 9]\n",
      "[3, 4, 2, 1, 0, 5, 6, 7, 8, 9]\n",
      "[3, 2, 4, 1, 0, 5, 6, 7, 8, 9]\n",
      "[3, 2, 1, 4, 0, 5, 6, 7, 8, 9]\n",
      "[3, 2, 1, 0, 4, 5, 6, 7, 8, 9]\n",
      "[2, 3, 1, 0, 4, 5, 6, 7, 8, 9]\n",
      "[2, 1, 3, 0, 4, 5, 6, 7, 8, 9]\n",
      "[2, 1, 0, 3, 4, 5, 6, 7, 8, 9]\n",
      "[1, 2, 0, 3, 4, 5, 6, 7, 8, 9]\n",
      "[1, 0, 2, 3, 4, 5, 6, 7, 8, 9]\n",
      "[0, 1, 2, 3, 4, 5, 6, 7, 8, 9]\n",
      "None\n",
      "[0, 1, 2, 3, 4, 5, 6, 7, 8, 9]\n"
     ]
    }
   ],
   "source": [
    "lst = [9,8,7,6,5,4,3,2,1,0]\n",
    "x = bubbleSort(lst)\n",
    "print(x)\n",
    "print(lst)"
   ]
  },
  {
   "cell_type": "markdown",
   "metadata": {},
   "source": [
    "* Both simple sort and bubble sort has complexity of O(n^2)\n",
    "* Best algorithm is QuickSort that takes O(nlog(n)) time"
   ]
  },
  {
   "cell_type": "code",
   "execution_count": null,
   "metadata": {},
   "outputs": [],
   "source": []
  }
 ],
 "metadata": {
  "kernelspec": {
   "display_name": "Python 3",
   "language": "python",
   "name": "python3"
  },
  "language_info": {
   "codemirror_mode": {
    "name": "ipython",
    "version": 3
   },
   "file_extension": ".py",
   "mimetype": "text/x-python",
   "name": "python",
   "nbconvert_exporter": "python",
   "pygments_lexer": "ipython3",
   "version": "3.7.6"
  }
 },
 "nbformat": 4,
 "nbformat_minor": 2
}
