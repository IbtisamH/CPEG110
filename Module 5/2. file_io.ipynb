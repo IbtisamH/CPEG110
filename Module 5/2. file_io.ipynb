{
 "cells": [
  {
   "cell_type": "markdown",
   "metadata": {},
   "source": [
    "# [File I/O](https://docs.python.org/3/tutorial/inputoutput.html#reading-and-writing-files)\n",
    "Reading and writing files."
   ]
  },
  {
   "cell_type": "markdown",
   "metadata": {},
   "source": [
    "## Working with paths"
   ]
  },
  {
   "cell_type": "code",
   "execution_count": 3,
   "metadata": {},
   "outputs": [
    {
     "name": "stdout",
     "output_type": "stream",
     "text": [
      "current file: D:\\OneDrive - Hamad bin Khalifa University\\HBKU\\2. Teaching\\1. Principles of Computing - CPEG110\\1. My Stuff\\1. Teaching Material\\1. Course Slides\\Module 5\\simple_file.txt\n",
      "\n",
      "current directory: D:\\OneDrive - Hamad bin Khalifa University\\HBKU\\2. Teaching\\1. Principles of Computing - CPEG110\\1. My Stuff\\1. Teaching Material\\1. Course Slides\\Module 5\n",
      "\n",
      "data directory: D:\\OneDrive - Hamad bin Khalifa University\\HBKU\\2. Teaching\\1. Principles of Computing - CPEG110\\1. My Stuff\\1. Teaching Material\\1. Course Slides\\data\n"
     ]
    }
   ],
   "source": [
    "import os\n",
    "\n",
    "current_file = os.path.realpath('simple_file.txt')  \n",
    "print('current file: {}'.format(current_file))\n",
    "# Note: in .py files you can get the path of current file by __file__\n",
    "\n",
    "current_dir = os.path.dirname(current_file)  \n",
    "print('\\ncurrent directory: {}'.format(current_dir))\n",
    "# Note: in .py files you can get the dir of current file by os.path.dirname(__file__)\n",
    "\n",
    "data_dir = os.path.join(os.path.dirname(current_dir), 'data')\n",
    "print('\\ndata directory: {}'.format(data_dir))"
   ]
  },
  {
   "cell_type": "markdown",
   "metadata": {},
   "source": [
    "### Checking if path exists"
   ]
  },
  {
   "cell_type": "code",
   "execution_count": 4,
   "metadata": {},
   "outputs": [
    {
     "name": "stdout",
     "output_type": "stream",
     "text": [
      "exists: False\n",
      "is file: False\n",
      "is directory: False\n"
     ]
    }
   ],
   "source": [
    "print('exists: {}'.format(os.path.exists(data_dir)))\n",
    "print('is file: {}'.format(os.path.isfile(data_dir)))\n",
    "print('is directory: {}'.format(os.path.isdir(data_dir)))"
   ]
  },
  {
   "cell_type": "markdown",
   "metadata": {},
   "source": [
    "## Reading files"
   ]
  },
  {
   "cell_type": "code",
   "execution_count": 7,
   "metadata": {},
   "outputs": [
    {
     "data": {
      "text/plain": [
       "['ZZZZZZZZZZZZZZZZZZZZ\\n',\n",
       " 'Benefits of HBKU Thematic Research Grant Program\\n',\n",
       " 'Fostering cross-collaboration amongst research entities within HBKU\\n',\n",
       " 'Helping to leverage expertise and resources to optimize research impact\\n',\n",
       " 'Providing additional opportunities with HBKU to capture research ideas with high impact and to support them to generate outcomes\\n',\n",
       " 'Establishing a pool of focused and critical research projects led by teams across multiple disciplines and functions to further enrich HBKUâ€™s innovation ecosystem']"
      ]
     },
     "execution_count": 7,
     "metadata": {},
     "output_type": "execute_result"
    }
   ],
   "source": [
    "file_path = os.path.join(current_dir, 'simple_file.txt')\n",
    "file_path = \"simple_file.txt\"\n",
    "# THIS IS NOT THE PREFERRED WAY\n",
    "fl = open(file_path, 'r')\n",
    "lst = fl.readlines()\n",
    "lst"
   ]
  },
  {
   "cell_type": "code",
   "execution_count": 2,
   "metadata": {},
   "outputs": [
    {
     "data": {
      "text/plain": [
       "['Fostering cross-collaboration amongst research entities within HBKU\\n',\n",
       " 'Helping to leverage expertise and resources to optimize research impact\\n',\n",
       " 'Providing additional opportunities with HBKU to capture research ideas with high impact and to support them to generate outcomes\\n',\n",
       " 'Establishing a pool of focused and critical research projects led by teams across multiple disciplines and functions to further enrich HBKUâ€™s innovation ecosystem']"
      ]
     },
     "execution_count": 2,
     "metadata": {},
     "output_type": "execute_result"
    }
   ],
   "source": [
    "# If path contains directory then we use double slash\n",
    "fp = 'data//another_file.txt'\n",
    "fl = open(fp, 'r')\n",
    "lines = fl.readlines()\n",
    "lines"
   ]
  },
  {
   "cell_type": "code",
   "execution_count": 8,
   "metadata": {},
   "outputs": [
    {
     "data": {
      "text/plain": [
       "['Fostering cross-collaboration amongst research entities within HBKU\\n',\n",
       " 'Helping to leverage expertise and resources to optimize research impact\\n',\n",
       " 'Providing additional opportunities with HBKU to capture research ideas with high impact and to support them to generate outcomes\\n',\n",
       " 'Establishing a pool of focused and critical research projects led by teams across multiple disciplines and functions to further enrich HBKUâ€™s innovation ecosystem']"
      ]
     },
     "execution_count": 8,
     "metadata": {},
     "output_type": "execute_result"
    }
   ],
   "source": [
    "# If path contains directory then we use double slash\n",
    "# Same for absolute path\n",
    "fp = \"\"\"D:\\\\OneDrive - Hamad bin Khalifa University\\\\HBKU\\\\2. Teaching\\\\1. Principles of Computing - CPEG110\\\\\n",
    "1. My Stuff\\\\1. Teaching Material\\\\1. Course Slides\\\\Module 5\\\\data\\\\another_file.txt\"\"\".replace(\"\\n\",\"\")\n",
    "fl = open(fp, 'r')\n",
    "lines = fl.readlines()\n",
    "lines"
   ]
  },
  {
   "cell_type": "code",
   "execution_count": 11,
   "metadata": {},
   "outputs": [
    {
     "name": "stdout",
     "output_type": "stream",
     "text": [
      "ZZZZZZZZZZZZZZZZZZZZ\n",
      "\n",
      "Benefits of HBKU Thematic Research Grant Program\n",
      "\n",
      "Fostering cross-collaboration amongst research entities within HBKU\n",
      "\n",
      "Helping to leverage expertise and resources to optimize research impact\n",
      "\n",
      "Providing additional opportunities with HBKU to capture research ideas with high impact and to support them to generate outcomes\n",
      "\n",
      "Establishing a pool of focused and critical research projects led by teams across multiple disciplines and functions to further enrich HBKUâ€™s innovation ecosystem\n"
     ]
    }
   ],
   "source": [
    "simple_file = open(file_path, 'r')\n",
    "for line in simple_file:\n",
    "    print(line)\n",
    "simple_file.close()  # This has to be called explicitly "
   ]
  },
  {
   "cell_type": "markdown",
   "metadata": {},
   "source": [
    "The [`with`](https://docs.python.org/3/reference/compound_stmts.html#the-with-statement) statement is for obtaining a [context manager](https://docs.python.org/3/reference/datamodel.html#with-statement-context-managers) that will be used as an execution context for the commands inside the `with`. Context managers guarantee that certain operations are done when exiting the context. \n",
    "\n",
    "In this case, the context manager guarantees that `simple_file.close()` is implicitly called when exiting the context. This is a way to make developers life easier: you don't have to remember to explicitly close the file you openened nor be worried about an exception occuring while the file is open. Unclosed file maybe a source of a resource leak. Thus, prefer using `with open()` structure always with file I/O.\n",
    "\n",
    "To have an example, the same as above with the `with`."
   ]
  },
  {
   "cell_type": "code",
   "execution_count": 4,
   "metadata": {},
   "outputs": [
    {
     "name": "stdout",
     "output_type": "stream",
     "text": [
      "ZZZZZZZZZZZZZZZZZZZZ\n",
      "Benefits of HBKU Thematic Research Grant Program\n",
      "Fostering cross-collaboration amongst research entities within HBKU\n",
      "Helping to leverage expertise and resources to optimize research impact\n",
      "Providing additional opportunities with HBKU to capture research ideas with high impact and to support them to generate outcomes\n",
      "Establishing a pool of focused and critical research projects led by teams across multiple disciplines and functions to further enrich HBKUâ€™s innovation ecosystem\n"
     ]
    }
   ],
   "source": [
    "file_path = os.path.join(current_dir, 'simple_file.txt')\n",
    "\n",
    "with open(file_path, 'r') as simple_file:\n",
    "    for line in simple_file:\n",
    "        print(line.strip())"
   ]
  },
  {
   "cell_type": "code",
   "execution_count": 5,
   "metadata": {},
   "outputs": [
    {
     "data": {
      "text/plain": [
       "['ZZZZZZZZZZZZZZZZZZZZ\\n',\n",
       " 'Benefits of HBKU Thematic Research Grant Program\\n',\n",
       " 'Fostering cross-collaboration amongst research entities within HBKU\\n',\n",
       " 'Helping to leverage expertise and resources to optimize research impact\\n',\n",
       " 'Providing additional opportunities with HBKU to capture research ideas with high impact and to support them to generate outcomes\\n',\n",
       " 'Establishing a pool of focused and critical research projects led by teams across multiple disciplines and functions to further enrich HBKUâ€™s innovation ecosystem']"
      ]
     },
     "execution_count": 5,
     "metadata": {},
     "output_type": "execute_result"
    }
   ],
   "source": [
    "lst"
   ]
  },
  {
   "cell_type": "code",
   "execution_count": 2,
   "metadata": {},
   "outputs": [
    {
     "name": "stdout",
     "output_type": "stream",
     "text": [
      "\n",
      "Hello\n"
     ]
    }
   ],
   "source": [
    "print(\"\\nHello\")"
   ]
  },
  {
   "cell_type": "code",
   "execution_count": 3,
   "metadata": {},
   "outputs": [
    {
     "data": {
      "text/plain": [
       "'\\nHello'"
      ]
     },
     "execution_count": 3,
     "metadata": {},
     "output_type": "execute_result"
    }
   ],
   "source": [
    "\"\\nHello\""
   ]
  },
  {
   "cell_type": "markdown",
   "metadata": {},
   "source": [
    "## Writing files"
   ]
  },
  {
   "cell_type": "code",
   "execution_count": 8,
   "metadata": {},
   "outputs": [
    {
     "name": "stdout",
     "output_type": "stream",
     "text": [
      "Hello\n"
     ]
    }
   ],
   "source": [
    "#new_file_path = os.path.join(current_dir, 'new_file.txt')\n",
    "new_file_path = 'new_file.txt'\n",
    "with open(new_file_path, 'w') as my_file:\n",
    "    my_file.write('This is my first file that I wrote with Python.')"
   ]
  },
  {
   "cell_type": "markdown",
   "metadata": {},
   "source": [
    "Now go and check that there is a new_file.txt in the data directory. After that you can delete the file by:"
   ]
  },
  {
   "cell_type": "code",
   "execution_count": 14,
   "metadata": {},
   "outputs": [],
   "source": [
    "if os.path.exists(new_file_path):  # make sure it's there\n",
    "    os.remove(new_file_path)"
   ]
  },
  {
   "cell_type": "code",
   "execution_count": null,
   "metadata": {},
   "outputs": [],
   "source": []
  }
 ],
 "metadata": {
  "kernelspec": {
   "display_name": "Python 3",
   "language": "python",
   "name": "python3"
  },
  "language_info": {
   "codemirror_mode": {
    "name": "ipython",
    "version": 3
   },
   "file_extension": ".py",
   "mimetype": "text/x-python",
   "name": "python",
   "nbconvert_exporter": "python",
   "pygments_lexer": "ipython3",
   "version": "3.7.6"
  }
 },
 "nbformat": 4,
 "nbformat_minor": 2
}
