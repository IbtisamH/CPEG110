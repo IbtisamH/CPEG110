{
 "cells": [
  {
   "cell_type": "markdown",
   "metadata": {},
   "source": [
    "# [Exceptions](https://docs.python.org/3/library/exceptions.html#concrete-exceptions)\n",
    "When something goes wrong an exception is raised. For example, if you try to divide by zero, `ZeroDivisionError` is raised or if you try to access a nonexistent key in a dictionary, `KeyError` is raised.\n",
    "\n"
   ]
  },
  {
   "cell_type": "code",
   "execution_count": 11,
   "metadata": {},
   "outputs": [
    {
     "name": "stdout",
     "output_type": "stream",
     "text": [
      "Program flow BEFORE the error\n"
     ]
    },
    {
     "ename": "KeyError",
     "evalue": "'key'",
     "output_type": "error",
     "traceback": [
      "\u001b[1;31m---------------------------------------------------------------------------\u001b[0m",
      "\u001b[1;31mKeyError\u001b[0m                                  Traceback (most recent call last)",
      "\u001b[1;32m<ipython-input-11-6fd3484747de>\u001b[0m in \u001b[0;36m<module>\u001b[1;34m\u001b[0m\n\u001b[0;32m      1\u001b[0m \u001b[0mprint\u001b[0m\u001b[1;33m(\u001b[0m\u001b[1;34m'Program flow BEFORE the error'\u001b[0m\u001b[1;33m)\u001b[0m\u001b[1;33m\u001b[0m\u001b[1;33m\u001b[0m\u001b[0m\n\u001b[0;32m      2\u001b[0m \u001b[0mempty_dict\u001b[0m \u001b[1;33m=\u001b[0m \u001b[1;33m{\u001b[0m\u001b[1;33m}\u001b[0m\u001b[1;33m\u001b[0m\u001b[1;33m\u001b[0m\u001b[0m\n\u001b[1;32m----> 3\u001b[1;33m \u001b[0mempty_dict\u001b[0m\u001b[1;33m[\u001b[0m\u001b[1;34m'key'\u001b[0m\u001b[1;33m]\u001b[0m  \u001b[1;31m# Uncomment to see the traceback\u001b[0m\u001b[1;33m\u001b[0m\u001b[1;33m\u001b[0m\u001b[0m\n\u001b[0m\u001b[0;32m      4\u001b[0m \u001b[0mprint\u001b[0m\u001b[1;33m(\u001b[0m\u001b[1;34m'Program flow AFTER the error'\u001b[0m\u001b[1;33m)\u001b[0m\u001b[1;33m\u001b[0m\u001b[1;33m\u001b[0m\u001b[0m\n",
      "\u001b[1;31mKeyError\u001b[0m: 'key'"
     ]
    }
   ],
   "source": [
    "\n",
    "print('Program flow BEFORE the error')\n",
    "empty_dict = {}\n",
    "empty_dict['key']  # Uncomment to see the traceback\n",
    "print('Program flow AFTER the error')\n"
   ]
  },
  {
   "cell_type": "markdown",
   "metadata": {},
   "source": [
    "## `try-except` structure \n",
    "If you know that a block of code can fail in some manner, you can use `try-except` structure to handle potential exceptions in a desired way."
   ]
  },
  {
   "cell_type": "code",
   "execution_count": 1,
   "metadata": {},
   "outputs": [
    {
     "name": "stdout",
     "output_type": "stream",
     "text": [
      "Program flow BEFORE the error\n",
      "Key not present in dictionary\n",
      "Program flow AFTER the error\n"
     ]
    }
   ],
   "source": [
    "print('Program flow BEFORE the error')\n",
    "empty_dict = {}\n",
    "try:\n",
    "    empty_dict['key']  \n",
    "except:\n",
    "    print('Key not present in dictionary')\n",
    "print('Program flow AFTER the error')\n",
    "\n"
   ]
  },
  {
   "cell_type": "code",
   "execution_count": 13,
   "metadata": {},
   "outputs": [
    {
     "name": "stdout",
     "output_type": "stream",
     "text": [
      "Uups, file: not_existing.txt not found\n",
      "Exception: [Errno 2] No such file or directory: 'not_existing.txt' was raised\n"
     ]
    }
   ],
   "source": [
    "# Let's try to open a file that does not exist\n",
    "file_name = 'not_existing.txt'\n",
    "\n",
    "try:\n",
    "    with open(file_name, 'r') as my_file:\n",
    "        print('File is successfully open')\n",
    "        \n",
    "except FileNotFoundError as e:\n",
    "    print('Uups, file: {} not found'.format(file_name))\n",
    "    print('Exception: {} was raised'.format(e))"
   ]
  },
  {
   "cell_type": "markdown",
   "metadata": {},
   "source": [
    "If you don't know the type of exceptions that a code block can possibly raise, you can use `Exception` which catches all exceptions. In addition, you can have multiple `except` statements."
   ]
  },
  {
   "cell_type": "code",
   "execution_count": 15,
   "metadata": {},
   "outputs": [
    {
     "name": "stdout",
     "output_type": "stream",
     "text": [
      "result1: 1.0\n",
      "Exception: unsupported operand type(s) for /: 'int' and 'str'\n",
      "result2: 0\n",
      "Can't divide by zero: division by zero\n",
      "result3: 0\n"
     ]
    }
   ],
   "source": [
    "def calculate_division(var1, var2):\n",
    "    result = 0\n",
    "    \n",
    "    try:\n",
    "        result = var1 / var2\n",
    "    except ZeroDivisionError as ex1:\n",
    "        print(\"Can't divide by zero:\", ex1)\n",
    "    except Exception as ex2:\n",
    "        print('Exception: {}'.format(ex2))\n",
    "\n",
    "    return result\n",
    "\n",
    "result1 = calculate_division(3, 3)\n",
    "print('result1: {}'.format(result1))\n",
    "\n",
    "result2 = calculate_division(3, '3')\n",
    "print('result2: {}'.format(result2))\n",
    "\n",
    "result3 = calculate_division(3, 0)\n",
    "print('result3: {}'.format(result3))"
   ]
  },
  {
   "cell_type": "markdown",
   "metadata": {},
   "source": [
    "`try-except` can be also in outer scope:"
   ]
  },
  {
   "cell_type": "code",
   "execution_count": 21,
   "metadata": {},
   "outputs": [
    {
     "name": "stdout",
     "output_type": "stream",
     "text": [
      "unsupported operand type(s) for /: 'int' and 'str'\n"
     ]
    }
   ],
   "source": [
    "def calculate_division1(var1, var2):\n",
    "    return var1 / var2\n",
    "\n",
    "try:\n",
    "    result = calculate_division(3, '3')\n",
    "except Exception as e:\n",
    "    print(e)"
   ]
  },
  {
   "cell_type": "code",
   "execution_count": 23,
   "metadata": {},
   "outputs": [
    {
     "name": "stdout",
     "output_type": "stream",
     "text": [
      "Hello\n"
     ]
    },
    {
     "ename": "ZeroDivisionError",
     "evalue": "division by zero",
     "output_type": "error",
     "traceback": [
      "\u001b[1;31m---------------------------------------------------------------------------\u001b[0m",
      "\u001b[1;31mZeroDivisionError\u001b[0m                         Traceback (most recent call last)",
      "\u001b[1;32m<ipython-input-23-f73139171794>\u001b[0m in \u001b[0;36m<module>\u001b[1;34m\u001b[0m\n\u001b[0;32m      1\u001b[0m \u001b[0mprint\u001b[0m\u001b[1;33m(\u001b[0m\u001b[1;34m'Hello'\u001b[0m\u001b[1;33m)\u001b[0m\u001b[1;33m\u001b[0m\u001b[1;33m\u001b[0m\u001b[0m\n\u001b[1;32m----> 2\u001b[1;33m \u001b[0mresult\u001b[0m \u001b[1;33m=\u001b[0m \u001b[0mcalculate_division1\u001b[0m\u001b[1;33m(\u001b[0m\u001b[1;36m3\u001b[0m\u001b[1;33m,\u001b[0m \u001b[1;36m0\u001b[0m\u001b[1;33m)\u001b[0m\u001b[1;33m\u001b[0m\u001b[1;33m\u001b[0m\u001b[0m\n\u001b[0m\u001b[0;32m      3\u001b[0m \u001b[0mprint\u001b[0m\u001b[1;33m(\u001b[0m\u001b[1;34m'Bye'\u001b[0m\u001b[1;33m)\u001b[0m\u001b[1;33m\u001b[0m\u001b[1;33m\u001b[0m\u001b[0m\n",
      "\u001b[1;32m<ipython-input-21-a87a6dffa808>\u001b[0m in \u001b[0;36mcalculate_division1\u001b[1;34m(var1, var2)\u001b[0m\n\u001b[0;32m      1\u001b[0m \u001b[1;32mdef\u001b[0m \u001b[0mcalculate_division1\u001b[0m\u001b[1;33m(\u001b[0m\u001b[0mvar1\u001b[0m\u001b[1;33m,\u001b[0m \u001b[0mvar2\u001b[0m\u001b[1;33m)\u001b[0m\u001b[1;33m:\u001b[0m\u001b[1;33m\u001b[0m\u001b[1;33m\u001b[0m\u001b[0m\n\u001b[1;32m----> 2\u001b[1;33m     \u001b[1;32mreturn\u001b[0m \u001b[0mvar1\u001b[0m \u001b[1;33m/\u001b[0m \u001b[0mvar2\u001b[0m\u001b[1;33m\u001b[0m\u001b[1;33m\u001b[0m\u001b[0m\n\u001b[0m\u001b[0;32m      3\u001b[0m \u001b[1;33m\u001b[0m\u001b[0m\n\u001b[0;32m      4\u001b[0m \u001b[1;32mtry\u001b[0m\u001b[1;33m:\u001b[0m\u001b[1;33m\u001b[0m\u001b[1;33m\u001b[0m\u001b[0m\n\u001b[0;32m      5\u001b[0m     \u001b[0mresult\u001b[0m \u001b[1;33m=\u001b[0m \u001b[0mcalculate_division\u001b[0m\u001b[1;33m(\u001b[0m\u001b[1;36m3\u001b[0m\u001b[1;33m,\u001b[0m \u001b[1;34m'3'\u001b[0m\u001b[1;33m)\u001b[0m\u001b[1;33m\u001b[0m\u001b[1;33m\u001b[0m\u001b[0m\n",
      "\u001b[1;31mZeroDivisionError\u001b[0m: division by zero"
     ]
    }
   ],
   "source": [
    "print('Hello')\n",
    "result = calculate_division1(3, 0)\n",
    "print('Bye')"
   ]
  },
  {
   "cell_type": "code",
   "execution_count": 24,
   "metadata": {},
   "outputs": [
    {
     "name": "stdout",
     "output_type": "stream",
     "text": [
      "3\n",
      "0\n",
      "The inputs may not be numerical, try again. division by zero\n",
      "3\n",
      "1\n",
      "3.0\n"
     ]
    }
   ],
   "source": [
    "result = 0\n",
    "while True:\n",
    "    x = input()\n",
    "    y = input()\n",
    "    try:\n",
    "        result = int(x)/int(y)\n",
    "        print(result)\n",
    "        break\n",
    "    except Exception as e:\n",
    "        print('The inputs may not be numerical, try again.', e)\n",
    "        continue"
   ]
  },
  {
   "cell_type": "markdown",
   "metadata": {},
   "source": [
    "## Creating your custom exceptions\n",
    "In your own applications, you can use custom exceptions for signaling users about errors which occur during your application run time.  "
   ]
  },
  {
   "cell_type": "code",
   "execution_count": 5,
   "metadata": {},
   "outputs": [],
   "source": [
    "import math\n",
    "\n",
    "# Define your own exception\n",
    "class NegativeNumbersNotSupported(Exception):\n",
    "    pass\n",
    "\n",
    "# Dummy example how to use your custom exception\n",
    "def secret_calculation(number1, number2):\n",
    "    if number1 < 0 or number2 < 0:\n",
    "        msg = 'Negative number in at least one of the parameters: {}, {}'.format(\n",
    "            number1, number2)\n",
    "        raise NegativeNumbersNotSupported(msg)\n",
    "\n",
    "    return math.sqrt(number1) + math.sqrt(number2)\n",
    "\n"
   ]
  },
  {
   "cell_type": "code",
   "execution_count": 9,
   "metadata": {},
   "outputs": [
    {
     "name": "stdout",
     "output_type": "stream",
     "text": [
      "Negative number in at least one of the parameters: -1, 1\n"
     ]
    }
   ],
   "source": [
    "# Uncomment to see the traceback\n",
    "try:\n",
    "    result = secret_calculation(-1, 1)\n",
    "    print(result)\n",
    "except NegativeNumbersNotSupported as e:\n",
    "    print(e)"
   ]
  },
  {
   "cell_type": "code",
   "execution_count": 25,
   "metadata": {},
   "outputs": [
    {
     "name": "stdout",
     "output_type": "stream",
     "text": [
      "5.39834563766817\n"
     ]
    }
   ],
   "source": [
    "try:\n",
    "    result = secret_calculation(5, 10)\n",
    "    print(result)\n",
    "except NegativeNumbersNotSupported as e:\n",
    "    print(e)"
   ]
  },
  {
   "cell_type": "code",
   "execution_count": null,
   "metadata": {},
   "outputs": [],
   "source": []
  }
 ],
 "metadata": {
  "kernelspec": {
   "display_name": "Python 3",
   "language": "python",
   "name": "python3"
  },
  "language_info": {
   "codemirror_mode": {
    "name": "ipython",
    "version": 3
   },
   "file_extension": ".py",
   "mimetype": "text/x-python",
   "name": "python",
   "nbconvert_exporter": "python",
   "pygments_lexer": "ipython3",
   "version": "3.7.6"
  }
 },
 "nbformat": 4,
 "nbformat_minor": 1
}
