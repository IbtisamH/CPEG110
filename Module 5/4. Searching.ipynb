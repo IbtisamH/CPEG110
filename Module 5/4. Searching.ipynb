{
 "cells": [
  {
   "cell_type": "markdown",
   "metadata": {},
   "source": [
    "# Searching in Python\n",
    "One of the most common problems in the domain of Computer Science is searching through a collection and determining whether a given object is present in the collection or not.\n",
    "\n",
    "Almost every programming language has its own implementation of a basic search algorithm, usually as a function which returns a Boolean value of True or False when an item is found in a given collection of items."
   ]
  },
  {
   "cell_type": "markdown",
   "metadata": {},
   "source": [
    "## Membership Operators\n",
    "\n",
    "\n",
    "In Python, the easiest way to search for an object is to use Membership Operators - named that way because they allow us to determine whether a given object is a member in a collection.\n",
    "\n",
    "These operators can be used with any iterable data structure in Python, including Strings, Lists, and Tuples.\n",
    "\n",
    "- `in` - Returns True if the given element is a part of the structure.\n",
    "- `not in` - Returns True if the given element is not a part of the structure."
   ]
  },
  {
   "cell_type": "code",
   "execution_count": 1,
   "metadata": {},
   "outputs": [
    {
     "data": {
      "text/plain": [
       "True"
      ]
     },
     "execution_count": 1,
     "metadata": {},
     "output_type": "execute_result"
    }
   ],
   "source": [
    "'apple' in ['orange', 'apple', 'grape']"
   ]
  },
  {
   "cell_type": "code",
   "execution_count": 1,
   "metadata": {},
   "outputs": [
    {
     "data": {
      "text/plain": [
       "False"
      ]
     },
     "execution_count": 1,
     "metadata": {},
     "output_type": "execute_result"
    }
   ],
   "source": [
    "'x' in 'stackabuse'"
   ]
  },
  {
   "cell_type": "code",
   "execution_count": 3,
   "metadata": {},
   "outputs": [
    {
     "data": {
      "text/plain": [
       "False"
      ]
     },
     "execution_count": 3,
     "metadata": {},
     "output_type": "execute_result"
    }
   ],
   "source": [
    "'q' in 'stackabuse'"
   ]
  },
  {
   "cell_type": "code",
   "execution_count": 4,
   "metadata": {},
   "outputs": [
    {
     "data": {
      "text/plain": [
       "True"
      ]
     },
     "execution_count": 4,
     "metadata": {},
     "output_type": "execute_result"
    }
   ],
   "source": [
    "'q' not in 'stackabuse'"
   ]
  },
  {
   "cell_type": "markdown",
   "metadata": {},
   "source": [
    "In most cases we need the position of the item in the sequence, in addition to determining whether or not it exists; membership operators do not meet this requirement.\n",
    "\n",
    "There are many search algorithms that don't depend on built-in operators and can be used to search for values faster and/or more efficiently. In addition, they can yield more information, such as the position of the element in the collection, rather than just being able to determine its existence.\n",
    "\n",
    "## Linear Search\n",
    "Linear search is one of the simplest searching algorithms, and the easiest to understand. We can think of it as a ramped-up version of our own implementation of Python's in operator.\n",
    "\n",
    "The algorithm consists of iterating over an array and returning the index of the first occurrence of an item once it is found:"
   ]
  },
  {
   "cell_type": "code",
   "execution_count": 4,
   "metadata": {},
   "outputs": [],
   "source": [
    "def LinearSearch(lys, element):\n",
    "    for i in range (len(lys)):\n",
    "        if lys[i] == element:\n",
    "            return i\n",
    "    return -1"
   ]
  },
  {
   "cell_type": "markdown",
   "metadata": {},
   "source": [
    "So if we use the function to compute:"
   ]
  },
  {
   "cell_type": "code",
   "execution_count": 5,
   "metadata": {},
   "outputs": [
    {
     "name": "stdout",
     "output_type": "stream",
     "text": [
      "4\n"
     ]
    }
   ],
   "source": [
    "print(LinearSearch([1,2,3,4,5,2,1], 5))"
   ]
  },
  {
   "cell_type": "markdown",
   "metadata": {},
   "source": [
    "Upon executing the code, we got: 1\n",
    "\n",
    "This is the index of the first occurrence of the item we are searching for - keeping in mind that Python indexes are 0-based.\n",
    "\n",
    "The time complexity of linear search is O(n), meaning that the time taken to execute increases with the number of items in our input list lys.\n",
    "\n",
    "Linear search is not often used in practice, because the same efficiency can be achieved by using inbuilt methods or existing operators, and it is not as fast or efficient as other search algorithms.\n",
    "\n",
    "Linear search is a good fit for when we need to find the first occurrence of an item in an unsorted collection because unlike most other search algorithms, it does not require that a collection be sorted before searching begins."
   ]
  },
  {
   "cell_type": "markdown",
   "metadata": {},
   "source": [
    "# Binary Search\n",
    "* The previous search() algorithm wasn’t hard to develop, and works well for modest-sized lists.\n",
    "* If the data is sorted, there is an even better searching strategy – one you probably already know!\n",
    "* Have you ever played the number guessing game, where I pick a number between 1 and 100 and you try to guess it? Each time you guess, I’ll tell you whether your guess is correct, too high, or too low. What strategy do you use?\n",
    "* Most adults will first guess 50. If told the value is higher, it is in the range 51-100. The next logical guess is 75.\n",
    "* Each time we guess the middle of the remaining numbers to try to narrow down the range.\n",
    "* This strategy is called binary search.\n",
    "* Binary means two, and at each step we are diving the remaining group of numbers into two parts.\n",
    "* We can use the same approach in our binary search algorithm! We can use two variables to keep track of the endpoints of the range in the sorted list where the number could be.\n",
    "* Since the target could be anywhere in the list, initially low is set to the first location in the list, and high is set to the last.\n",
    "* The heart of the algorithm is a loop that looks at the middle element of the range, comparing it to the value x.\n",
    "* If x is smaller than the middle item, high is moved so that the search is confined to the lower half.\n",
    "* If x is larger than the middle item, low is moved to narrow the search to the upper half.\n",
    "* The loop terminates when either\n",
    "    * x is found\n",
    "* There are no more places to look\n",
    "    * (low > high)\n"
   ]
  },
  {
   "cell_type": "code",
   "execution_count": 11,
   "metadata": {},
   "outputs": [],
   "source": [
    "def binary_search(nums, nm):\n",
    "    low = 0\n",
    "    high = len(nums) - 1\n",
    "    while low <= high:       # There is still a range to search\n",
    "        mid = (low + high)//2 # Position of middle item\n",
    "        item = nums[mid]\n",
    "        print(item)\n",
    "        if nm == item:        # Found it! Return the index\n",
    "            return mid\n",
    "        elif nm < item:       # x is in lower half of range\n",
    "            high = mid - 1   #  move top marker down\n",
    "        else:                # x is in upper half of range\n",
    "            low = mid + 1    #  move bottom marker up\n",
    "    return -1                # No range left to search,\n",
    "                             # x is not there"
   ]
  },
  {
   "cell_type": "markdown",
   "metadata": {},
   "source": [
    "# Execution Time"
   ]
  },
  {
   "cell_type": "code",
   "execution_count": 1,
   "metadata": {},
   "outputs": [],
   "source": [
    "lst = [x for x in range(100000001)]"
   ]
  },
  {
   "cell_type": "code",
   "execution_count": 2,
   "metadata": {},
   "outputs": [
    {
     "data": {
      "text/plain": [
       "0"
      ]
     },
     "execution_count": 2,
     "metadata": {},
     "output_type": "execute_result"
    }
   ],
   "source": [
    "lst[0]"
   ]
  },
  {
   "cell_type": "code",
   "execution_count": 9,
   "metadata": {},
   "outputs": [
    {
     "name": "stdout",
     "output_type": "stream",
     "text": [
      "0.0\n"
     ]
    }
   ],
   "source": [
    "import time\n",
    "\n",
    "start = time.time()\n",
    "binary_search(lst, 100000000)\n",
    "end = time.time()\n",
    "print(end - start)"
   ]
  },
  {
   "cell_type": "code",
   "execution_count": 12,
   "metadata": {},
   "outputs": [
    {
     "name": "stdout",
     "output_type": "stream",
     "text": [
      "50000000\n",
      "75000000\n",
      "87500000\n",
      "93750000\n",
      "96875000\n",
      "98437500\n",
      "99218750\n",
      "99609375\n",
      "99804688\n",
      "99902344\n",
      "99951172\n",
      "99975586\n",
      "99987793\n",
      "99993897\n",
      "99996949\n",
      "99998475\n",
      "99999238\n",
      "99999619\n",
      "99999810\n",
      "99999905\n",
      "99999953\n",
      "99999977\n",
      "99999989\n",
      "99999995\n",
      "99999998\n",
      "99999999\n",
      "100000000\n",
      "0.01252126693725586\n"
     ]
    }
   ],
   "source": [
    "start = time.time()\n",
    "binary_search(lst, 100000000)\n",
    "end = time.time()\n",
    "print(end - start)"
   ]
  },
  {
   "cell_type": "markdown",
   "metadata": {},
   "source": [
    "# Comparing Algorithms\n",
    "* Which search algorithm is better, linear or binary?\n",
    "    * The linear search is easier to understand and implement\n",
    "    * The binary search is more efficient since it doesn’t need to look at each element in the list\n",
    "* Intuitively, we might expect the linear search to work better for small lists, and binary search for longer lists. \n",
    "    * But how can we be sure?\n",
    "* One way to conduct the test would be to code up the algorithms and try them on varying sized lists, noting the runtime.\n",
    "    * Linear search is generally faster for lists of length 10 or less\n",
    "    * There was little difference for lists of 10-1000\n",
    "    * Binary search is best for 1000+ (for one million list elements, binary search averaged .0003 seconds while linear search averaged 2.5 second)\n"
   ]
  }
 ],
 "metadata": {
  "kernelspec": {
   "display_name": "Python 3",
   "language": "python",
   "name": "python3"
  },
  "language_info": {
   "codemirror_mode": {
    "name": "ipython",
    "version": 3
   },
   "file_extension": ".py",
   "mimetype": "text/x-python",
   "name": "python",
   "nbconvert_exporter": "python",
   "pygments_lexer": "ipython3",
   "version": "3.7.6"
  }
 },
 "nbformat": 4,
 "nbformat_minor": 2
}
