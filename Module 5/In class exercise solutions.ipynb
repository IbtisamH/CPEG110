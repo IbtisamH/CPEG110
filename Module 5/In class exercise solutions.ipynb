{
 "cells": [
  {
   "cell_type": "markdown",
   "metadata": {},
   "source": [
    "# Ex 1 Solution:"
   ]
  },
  {
   "cell_type": "code",
   "execution_count": null,
   "metadata": {},
   "outputs": [],
   "source": [
    "def search(x, nums):\n",
    "    ln = len(nums)\n",
    "    i = 0\n",
    "    while i < ln:\n",
    "        if nums[i] == x: # item found, return the index value\n",
    "            return i\n",
    "        else:\n",
    "            i +=1\n",
    "    return -1            # loop finished, item was not in list"
   ]
  },
  {
   "cell_type": "code",
   "execution_count": null,
   "metadata": {},
   "outputs": [],
   "source": [
    "x = [1,2,3,4,5]\n",
    "search(3,x)"
   ]
  },
  {
   "cell_type": "markdown",
   "metadata": {},
   "source": [
    "# Ex 2 Solution:"
   ]
  },
  {
   "cell_type": "code",
   "execution_count": 51,
   "metadata": {},
   "outputs": [],
   "source": [
    "def binary_search(x, arr, l, r): \n",
    "    # Check base case \n",
    "    if r >= l: \n",
    "        mid = int(l + (r - l)/2)\n",
    "        print('The value of mid is -->',mid)\n",
    "        # If element is present at the middle itself \n",
    "        if arr[mid] == x: \n",
    "            return mid \n",
    "          \n",
    "        # If element is smaller than mid, then it can only \n",
    "        # be present in left subarray \n",
    "        elif arr[mid] > x: \n",
    "            return binary_search(x, arr, l, mid-1) \n",
    "  \n",
    "        # Else the element can only be present in right subarray \n",
    "        else: \n",
    "            return binary_search(x, arr, mid+1, r) \n",
    "    else: \n",
    "        # Element is not present in the array \n",
    "        return -1\n",
    "    "
   ]
  },
  {
   "cell_type": "code",
   "execution_count": 55,
   "metadata": {},
   "outputs": [
    {
     "name": "stdout",
     "output_type": "stream",
     "text": [
      "The value of mid is --> 50\n",
      "The value of mid is --> 75\n",
      "The value of mid is --> 62\n",
      "The value of mid is --> 56\n",
      "The value of mid is --> 53\n",
      "The value of mid is --> 54\n",
      "Binary search ended in 0.0010001659393310547 sec\n"
     ]
    }
   ],
   "source": [
    "import time\n",
    "lst = [x+1 for x in range(101)]\n",
    "start = time.time()\n",
    "binary_search(55, lst, 0, len(lst)-1)\n",
    "end = time.time()\n",
    "print(\"Binary search ended in \"+str(end - start)+\" sec\")"
   ]
  },
  {
   "cell_type": "code",
   "execution_count": 53,
   "metadata": {},
   "outputs": [],
   "source": [
    "def binary_search1 (x, arr, l, r): \n",
    "  \n",
    "    # Check base case \n",
    "    if r >= l: \n",
    "        mid = int((l+r)/2)\n",
    "        print('The value of mid is -->',mid)\n",
    "        # If element is present at the middle itself \n",
    "        if arr[mid] == x: \n",
    "            return mid \n",
    "          \n",
    "        # If element is smaller than mid, then it can only \n",
    "        # be present in left subarray \n",
    "        elif arr[mid] > x: \n",
    "            return binary_search(x, arr, l, mid-1) \n",
    "  \n",
    "        # Else the element can only be present in right subarray \n",
    "        else: \n",
    "            return binary_search(x, arr, mid+1, r) \n",
    "  \n",
    "    else: \n",
    "        # Element is not present in the array \n",
    "        return -1"
   ]
  },
  {
   "cell_type": "code",
   "execution_count": 54,
   "metadata": {},
   "outputs": [
    {
     "name": "stdout",
     "output_type": "stream",
     "text": [
      "The value of mid is --> 49\n",
      "The value of mid is --> 74\n",
      "The value of mid is --> 61\n",
      "The value of mid is --> 55\n",
      "Binary search ended in 0.0 sec\n"
     ]
    }
   ],
   "source": [
    "import time\n",
    "lst = [x for x in range(100)]\n",
    "start = time.time()\n",
    "binary_search1(55, lst, 0, len(lst)-1)\n",
    "end = time.time()\n",
    "print(\"Binary search ended in \"+str(end - start)+\" sec\")"
   ]
  },
  {
   "cell_type": "markdown",
   "metadata": {},
   "source": [
    "# Ex 3: Recursive program to multiply the list"
   ]
  },
  {
   "cell_type": "code",
   "execution_count": 56,
   "metadata": {},
   "outputs": [],
   "source": [
    "def list_sum_recursive(input_list):\n",
    "    # Base case\n",
    "    if input_list == []:\n",
    "        return 1\n",
    "    if isinstance(input_list[0], list):\n",
    "        return list_sum_recursive(input_list[0]) * list_sum_recursive(input_list[1:])\n",
    "    else:\n",
    "        return input_list[0] * list_sum_recursive(input_list[1:])"
   ]
  },
  {
   "cell_type": "markdown",
   "metadata": {},
   "source": [
    "# EX 3: Sum numbers from 1 to 10 using recursion"
   ]
  },
  {
   "cell_type": "code",
   "execution_count": 57,
   "metadata": {},
   "outputs": [],
   "source": [
    "def sum_recursive(current_number, accumulated_sum):\n",
    "    # Base case\n",
    "    if current_number == 11:\n",
    "        return accumulated_sum\n",
    "\n",
    "    # Recursive case\n",
    "    else:\n",
    "        return sum_recursive(current_number + 1, accumulated_sum + current_number)"
   ]
  },
  {
   "cell_type": "code",
   "execution_count": 58,
   "metadata": {},
   "outputs": [
    {
     "data": {
      "text/plain": [
       "55"
      ]
     },
     "execution_count": 58,
     "metadata": {},
     "output_type": "execute_result"
    }
   ],
   "source": [
    "sum_recursive(1,0)"
   ]
  },
  {
   "cell_type": "markdown",
   "metadata": {},
   "source": [
    "# Ex 4 Solution:"
   ]
  },
  {
   "cell_type": "code",
   "execution_count": 33,
   "metadata": {},
   "outputs": [],
   "source": [
    "class search:\n",
    "    def __init__(self, nums):\n",
    "        self.nums= nums\n",
    "    \n",
    "    \n",
    "    def linear_search(self, x):\n",
    "        ln = len(self.nums)\n",
    "        i = 0\n",
    "        while i < ln:\n",
    "            if self.nums[i] == x: # item found, return the index value\n",
    "                return i\n",
    "            else:\n",
    "                i +=1\n",
    "        return -1\n",
    "\n",
    "    def binary_search_simple(self, x):\n",
    "        low = 0\n",
    "        high = len(self.nums) - 1\n",
    "        while low <= high:       # There is still a range to search\n",
    "            mid = int((low + high)/2) # Position of middle item\n",
    "            item = self.nums[mid]\n",
    "            if x == item:        # Found it! Return the index\n",
    "                return mid\n",
    "            elif x < item:       # x is in lower half of range\n",
    "                high = mid - 1   #  move top marker down\n",
    "            else:                # x is in upper half of range\n",
    "                low = mid + 1    #  move bottom marker up\n",
    "        return -1                # No range left to search,\n",
    "                             # x is not there\n",
    "    \n",
    "    \n",
    "    \n",
    "    def binary_search_recursive(self, x):\n",
    "        l = 0\n",
    "        r = len(self.nums)-1\n",
    "        ary = self.nums\n",
    "        idx = self.b_search_recursive(x,ary,l,r)\n",
    "        return idx\n",
    "    \n",
    "    def b_search_recursive(self, x, arr, l, r): \n",
    "  \n",
    "        # Check base case \n",
    "        if r >= l: \n",
    "\n",
    "            mid = int(l + (r - l)/2)\n",
    "\n",
    "            # If element is present at the middle itself \n",
    "            if arr[mid] == x: \n",
    "                return mid \n",
    "\n",
    "            # If element is smaller than mid, then it can only \n",
    "            # be present in left subarray \n",
    "            elif arr[mid] > x: \n",
    "                return self.b_search_recursive(x, arr, l, mid-1) \n",
    "\n",
    "            # Else the element can only be present in right subarray \n",
    "            else: \n",
    "                return self.b_search_recursive(x, arr, mid+1, r) \n",
    "\n",
    "        else: \n",
    "            # Element is not present in the array \n",
    "            return -1\n",
    "        "
   ]
  },
  {
   "cell_type": "code",
   "execution_count": 34,
   "metadata": {},
   "outputs": [
    {
     "name": "stdout",
     "output_type": "stream",
     "text": [
      "100000000\n",
      "Linear search ended in 7.389693260192871 sec\n",
      "100000000\n",
      "Binary search ended in 0.0 sec\n",
      "100000000\n",
      "Binary search ended in 0.0 sec\n"
     ]
    }
   ],
   "source": [
    "import time\n",
    "lst = [x for x in range(100000001)]\n",
    "\n",
    "sr = search(lst)\n",
    "\n",
    "start = time.time()\n",
    "print(sr.linear_search(100000000))\n",
    "end = time.time()\n",
    "print(\"Linear search ended in \"+str(end - start)+\" sec\")\n",
    "\n",
    "start = time.time()\n",
    "print(sr.binary_search_simple(100000000))\n",
    "end = time.time()\n",
    "print(\"Binary Simple Search ended in \"+str(end - start)+\" sec\")\n",
    "\n",
    "\n",
    "start = time.time()\n",
    "print(sr.binary_search_recursive(100000000))\n",
    "end = time.time()\n",
    "print(\"Binary Recursive Search ended in \"+str(end - start)+\" sec\")"
   ]
  },
  {
   "cell_type": "markdown",
   "metadata": {},
   "source": [
    "# Comparing Algorithms (using big O)\n",
    "* For searching, the difficulty is determined by the size of the collection – it takes more steps to find a number in a collection of a million numbers than it does in a collection of 10 numbers.\n",
    "* How many steps are needed to find a value in a list of size n?\n",
    "* In particular, what happens as n gets very large?\n",
    "* Let’s consider linear search.\n",
    "    * For a list of 10 items, the most work we might have to do is to look at each item in turn – looping at most 10 times.\n",
    "    * For a list twice as large, we would loop at most 20 times.\n",
    "    * For a list three times as large, we would loop at most 30 times!\n",
    "* The amount of time required is linearly related to the size of the list, n. This is what computer scientists call a linear time algorithm.\n",
    "* Now, let’s consider binary search.\n",
    "    * Suppose the list has 16 items. Each time through the loop, half the items are removed. After one loop, 8 items remain.\n",
    "    * After two loops, 4 items remain.\n",
    "    * After three loops, 2 items remain\n",
    "    * After four loops, 1 item remains.\n",
    "* If a binary search loops i times, it can find a single value in a list of size 2i.\n",
    "* To determine how many items are examined in a list of size n, we need to solve\n",
    "    * n = 2^i for i or i = log2 n"
   ]
  },
  {
   "cell_type": "code",
   "execution_count": null,
   "metadata": {},
   "outputs": [],
   "source": []
  },
  {
   "cell_type": "code",
   "execution_count": null,
   "metadata": {},
   "outputs": [],
   "source": []
  }
 ],
 "metadata": {
  "kernelspec": {
   "display_name": "Python 3",
   "language": "python",
   "name": "python3"
  },
  "language_info": {
   "codemirror_mode": {
    "name": "ipython",
    "version": 3
   },
   "file_extension": ".py",
   "mimetype": "text/x-python",
   "name": "python",
   "nbconvert_exporter": "python",
   "pygments_lexer": "ipython3",
   "version": "3.7.6"
  }
 },
 "nbformat": 4,
 "nbformat_minor": 2
}
