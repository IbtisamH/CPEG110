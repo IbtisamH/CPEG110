{
 "cells": [
  {
   "cell_type": "markdown",
   "metadata": {},
   "source": [
    "# Exceptions"
   ]
  },
  {
   "cell_type": "markdown",
   "metadata": {},
   "source": [
    "Dealing with exceptions\n",
    "Fill `____` parts of the implementation below. `sum_of_list` function takes a list as argument and calculates the sum of values in the list. If some element in the list can not be converted to a numeric value, it should be ignored from the sum."
   ]
  },
  {
   "cell_type": "code",
   "execution_count": null,
   "metadata": {},
   "outputs": [],
   "source": [
    "def sum_of_list(values):\n",
    "    ____ = 0\n",
    "    for val in values:\n",
    "        ____:\n",
    "            numeric_val = float(val)\n",
    "        ____ ____ as e:\n",
    "            ____\n",
    "        ____ += numeric_val\n",
    "    return ____"
   ]
  },
  {
   "cell_type": "code",
   "execution_count": null,
   "metadata": {},
   "outputs": [],
   "source": [
    "list1 = [1, 2, 3]\n",
    "list2 = ['1', 2.5, '3.0']\n",
    "list3 = ['', '1']\n",
    "list4 = []\n",
    "list5 = ['John', 'Doe', 'was', 'here']\n",
    "nasty_list = [KeyError(), [], dict()]\n",
    "\n",
    "assert sum_of_list(list1) == 6\n",
    "assert sum_of_list(list2) == 6.5\n",
    "assert sum_of_list(list3) == 1\n",
    "assert sum_of_list(list4) == 0\n",
    "assert sum_of_list(list5) == 0\n",
    "assert sum_of_list(nasty_list) == 0"
   ]
  },
  {
   "cell_type": "code",
   "execution_count": 1,
   "metadata": {},
   "outputs": [
    {
     "name": "stdout",
     "output_type": "stream",
     "text": [
      "Please enter int value: eee\n",
      "The value is not int\n"
     ]
    }
   ],
   "source": [
    "# 1. Write a program that take input from user and convert it to integer value\n",
    "# if the value is non integer then handle it with try-catch block\n",
    "val = input('Please enter int value: ')\n",
    "try:\n",
    "    int_val = int(val)\n",
    "except:\n",
    "    print('The value is not int')"
   ]
  },
  {
   "cell_type": "code",
   "execution_count": 4,
   "metadata": {},
   "outputs": [
    {
     "name": "stdout",
     "output_type": "stream",
     "text": [
      "Please enter int value1: d\n",
      "Please enter int value2: 3\n",
      "The inputs are not valid:\n"
     ]
    }
   ],
   "source": [
    "# 2. Write a python program that takes two numbers from user and divide first number by second.\n",
    "# if the numbers are non convertable or the second number is zero then handle it with tr-catch block\n",
    "\n",
    "val1 = input('Please enter int value1: ')\n",
    "val2 = input('Please enter int value2: ')\n",
    "try:\n",
    "    int_val1 = int(val1)\n",
    "    int_val2 = int(val2)\n",
    "    print(int_val1/int_val2)\n",
    "except:\n",
    "    print('The inputs are not valid:')"
   ]
  },
  {
   "cell_type": "code",
   "execution_count": null,
   "metadata": {},
   "outputs": [],
   "source": []
  }
 ],
 "metadata": {
  "kernelspec": {
   "display_name": "Python 3",
   "language": "python",
   "name": "python3"
  },
  "language_info": {
   "codemirror_mode": {
    "name": "ipython",
    "version": 3
   },
   "file_extension": ".py",
   "mimetype": "text/x-python",
   "name": "python",
   "nbconvert_exporter": "python",
   "pygments_lexer": "ipython3",
   "version": "3.7.6"
  }
 },
 "nbformat": 4,
 "nbformat_minor": 2
}
