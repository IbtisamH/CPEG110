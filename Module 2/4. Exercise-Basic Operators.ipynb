{
 "cells": [
  {
   "cell_type": "markdown",
   "metadata": {},
   "source": [
    "# 1. Arithematic Operators"
   ]
  },
  {
   "cell_type": "code",
   "execution_count": null,
   "metadata": {},
   "outputs": [],
   "source": [
    "# For all the operations bellow consider following varaiables\n",
    "a = 10\n",
    "b = 10.123\n",
    "c = 20\n",
    "d = 20.123"
   ]
  },
  {
   "cell_type": "code",
   "execution_count": null,
   "metadata": {},
   "outputs": [],
   "source": [
    "# Sum a and c\n",
    "__\n",
    "# Subtract c from a\n",
    "__"
   ]
  },
  {
   "cell_type": "code",
   "execution_count": null,
   "metadata": {},
   "outputs": [],
   "source": [
    "# Sum b and d\n",
    "__\n",
    "# Subtract d from b\n",
    "__"
   ]
  },
  {
   "cell_type": "code",
   "execution_count": null,
   "metadata": {},
   "outputs": [],
   "source": [
    "# Divide a by c\n",
    "__\n",
    "# Divide d by b\n",
    "__"
   ]
  },
  {
   "cell_type": "code",
   "execution_count": null,
   "metadata": {},
   "outputs": [],
   "source": [
    "# Multiply a by c\n",
    "__\n",
    "# Multiply d by b\n",
    "__"
   ]
  },
  {
   "cell_type": "code",
   "execution_count": null,
   "metadata": {},
   "outputs": [],
   "source": [
    "# Evaluate the following numerical expressions in your head, then use the active code cell to check your results:\n",
    "# 5 ** 2\n",
    "\n",
    "# 9 * 5\n",
    "\n",
    "# 15 / 12\n",
    "\n",
    "# 12 / 15\n",
    "\n",
    "# 15 // 12\n",
    "\n",
    "# 12 // 15\n",
    "\n",
    "# 5 % 2\n",
    "\n",
    "# 9 % 5\n",
    "\n",
    "# 15 % 12\n",
    "\n",
    "# 12 % 15\n",
    "\n",
    "# 6 % 6\n",
    "\n",
    "# 0 % 7"
   ]
  },
  {
   "cell_type": "markdown",
   "metadata": {},
   "source": [
    "# 2. Boolean Operators"
   ]
  },
  {
   "cell_type": "code",
   "execution_count": null,
   "metadata": {},
   "outputs": [],
   "source": [
    "# Consider the following boolean variables\n",
    "x = True\n",
    "Y = False"
   ]
  },
  {
   "cell_type": "code",
   "execution_count": null,
   "metadata": {},
   "outputs": [],
   "source": [
    "# Evaluate the following boolean expressions in your head, then use the active code cell to check your results:\n",
    "\n",
    "# the use of or operator\n",
    "\n",
    "# x or x =\n",
    "\n",
    "# x or y = \n",
    "\n",
    "# y or x =\n",
    "\n",
    "# y or y ="
   ]
  },
  {
   "cell_type": "code",
   "execution_count": null,
   "metadata": {},
   "outputs": [],
   "source": [
    "# The use of and operator\n",
    "\n",
    "# x and x =\n",
    "\n",
    "# x and y = \n",
    "\n",
    "# y and x =\n",
    "\n",
    "# y and y ="
   ]
  },
  {
   "cell_type": "code",
   "execution_count": null,
   "metadata": {},
   "outputs": [],
   "source": [
    "# The use of not operator\n",
    "\n",
    "# not x\n",
    "\n",
    "# not y\n"
   ]
  },
  {
   "cell_type": "code",
   "execution_count": null,
   "metadata": {},
   "outputs": [],
   "source": [
    "# The use of xor operator\n",
    "\n",
    "# x ^ x =\n",
    "\n",
    "# x ^ y = \n",
    "\n",
    "# y ^ x =\n",
    "\n",
    "# y ^ y =\n"
   ]
  },
  {
   "cell_type": "code",
   "execution_count": null,
   "metadata": {},
   "outputs": [],
   "source": [
    "# Combination of operators\n",
    "\n",
    "# What will be the value of the following experesions\n",
    "\n",
    "# (x or y) and (y or x)\n",
    "\n",
    "# not ((x or y) and (y or x))\n",
    "\n",
    "# (x and y) or (y and x)\n",
    "\n",
    "# not ((x and y) or (y and x))\n",
    "\n",
    "# (x and y) ^ (x or y)\n",
    "\n",
    "# not ((x and y) ^ (x or y))"
   ]
  },
  {
   "cell_type": "markdown",
   "metadata": {},
   "source": [
    "# 3. Comparison Operators"
   ]
  },
  {
   "cell_type": "code",
   "execution_count": null,
   "metadata": {},
   "outputs": [],
   "source": [
    "# Consider the following variables\n",
    "a = 10\n",
    "b = 20"
   ]
  },
  {
   "cell_type": "code",
   "execution_count": null,
   "metadata": {},
   "outputs": [],
   "source": [
    "# Evaluate the following comparison expressions in your head, then use the active code cell to check your results:\n",
    "\n",
    "# a > b\n",
    "\n",
    "# a < b\n",
    "\n",
    "# a >= b\n",
    "\n",
    "# a <= b\n",
    "\n",
    "# a != b\n",
    "\n",
    "# a == b"
   ]
  },
  {
   "cell_type": "code",
   "execution_count": null,
   "metadata": {},
   "outputs": [],
   "source": [
    "# Advance use of operators\n",
    "\n",
    "# (a + b) and (a - b)\n",
    "\n",
    "# (a + b) or (a - b)\n",
    "\n",
    "# (a + b) ^ (a - b) \n",
    "\n",
    "# (a > b) and (a < b)\n",
    "\n",
    "# (a > b) or (a < b)\n",
    "\n",
    "# (a > b) ^ (a < b) \n",
    "\n",
    "# (a >= b) and (a <= b)\n",
    "\n",
    "# (a >= b) or (a <= b)\n",
    "\n",
    "# (a >= b) ^ (a <= b) "
   ]
  }
 ],
 "metadata": {
  "kernelspec": {
   "display_name": "Python 3",
   "language": "python",
   "name": "python3"
  },
  "language_info": {
   "codemirror_mode": {
    "name": "ipython",
    "version": 3
   },
   "file_extension": ".py",
   "mimetype": "text/x-python",
   "name": "python",
   "nbconvert_exporter": "python",
   "pygments_lexer": "ipython3",
   "version": "3.7.6"
  }
 },
 "nbformat": 4,
 "nbformat_minor": 2
}
