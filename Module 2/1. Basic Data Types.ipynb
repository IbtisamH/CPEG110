{
 "cells": [
  {
   "cell_type": "markdown",
   "metadata": {},
   "source": [
    "# [Basic Data Types](https://realpython.com/python-data-types/)"
   ]
  },
  {
   "cell_type": "markdown",
   "metadata": {},
   "source": [
    "## There are three basic data types in Python\n",
    "### String\n",
    "- str\n",
    "\n",
    "### Numbers\n",
    "- int\n",
    "- float\n",
    "- complex\n",
    "\n",
    "### Boolean\n",
    "- bool"
   ]
  },
  {
   "cell_type": "markdown",
   "metadata": {},
   "source": [
    "## String\n",
    "String in Python can be any set of characters enclosed in single, double or thriple quotes. String can be define with key word \"str\" as well. \n",
    "#### str"
   ]
  },
  {
   "cell_type": "code",
   "execution_count": 2,
   "metadata": {},
   "outputs": [
    {
     "name": "stdout",
     "output_type": "stream",
     "text": [
      "<class 'str'>\n",
      "<class 'str'>\n",
      "<class 'str'>\n",
      "<class 'str'>\n"
     ]
    }
   ],
   "source": [
    "my_string = 'Python is cool'\n",
    "my_string1 = \"Python is cool\"\n",
    "my_string2 = '''Python is cool'''\n",
    "my_string3 = \"\"\"Python is cool\"\"\"\n",
    "print(type(my_string))\n",
    "print(type(my_string1))\n",
    "print(type(my_string2))\n",
    "print(type(my_string3))"
   ]
  },
  {
   "cell_type": "code",
   "execution_count": 20,
   "metadata": {},
   "outputs": [
    {
     "name": "stdout",
     "output_type": "stream",
     "text": [
      "<class 'str'>\n",
      "<class 'str'>\n",
      "<class 'str'>\n",
      "<class 'str'>\n"
     ]
    }
   ],
   "source": [
    "my_string = str('Python is cool')\n",
    "my_string1 = str(\"Python is cool\")\n",
    "my_string2 = str('''Python is cool''')\n",
    "my_string3 = str(\"\"\"Python is cool\"\"\")\n",
    "print(type(my_string))\n",
    "print(type(my_string1))\n",
    "print(type(my_string2))\n",
    "print(type(my_string3))"
   ]
  },
  {
   "cell_type": "code",
   "execution_count": 1,
   "metadata": {},
   "outputs": [
    {
     "data": {
      "text/plain": [
       "int"
      ]
     },
     "execution_count": 1,
     "metadata": {},
     "output_type": "execute_result"
    }
   ],
   "source": [
    "var = 1\n",
    "type(var)"
   ]
  },
  {
   "cell_type": "code",
   "execution_count": 3,
   "metadata": {},
   "outputs": [
    {
     "data": {
      "text/plain": [
       "str"
      ]
     },
     "execution_count": 3,
     "metadata": {},
     "output_type": "execute_result"
    }
   ],
   "source": [
    "var1 =  str(var)\n",
    "type(var1)"
   ]
  },
  {
   "cell_type": "markdown",
   "metadata": {},
   "source": [
    "We have already covered String data type in detail in previous lecture."
   ]
  },
  {
   "cell_type": "markdown",
   "metadata": {},
   "source": [
    "## Numbers\n",
    "Numbers in Python can be of three types, which are int, float and complex. They can be declaired with these keywords as well.\n",
    "#### int"
   ]
  },
  {
   "cell_type": "code",
   "execution_count": 6,
   "metadata": {},
   "outputs": [
    {
     "name": "stdout",
     "output_type": "stream",
     "text": [
      "1 1 2\n",
      "<class 'int'> <class 'int'> <class 'int'>\n"
     ]
    }
   ],
   "source": [
    "my_int = int(1)\n",
    "my_int1 = int(1.5)\n",
    "my_int2 = int('2')\n",
    "print(my_int, my_int1, my_int2)\n",
    "print(type(my_int), type(my_int1), type(my_int2))"
   ]
  },
  {
   "cell_type": "markdown",
   "metadata": {},
   "source": [
    "If you dont use the explicit type using \"int\", then python will determine it using the assigned value."
   ]
  },
  {
   "cell_type": "code",
   "execution_count": 21,
   "metadata": {},
   "outputs": [
    {
     "name": "stdout",
     "output_type": "stream",
     "text": [
      "1\n",
      "<class 'int'>\n",
      "1.5\n",
      "<class 'float'>\n",
      "2\n",
      "<class 'str'>\n"
     ]
    }
   ],
   "source": [
    "my_int = 1\n",
    "print(my_int)\n",
    "print(type(my_int))\n",
    "my_int1 = 1.5\n",
    "print(my_int1)\n",
    "print(type(my_int1))\n",
    "my_int2 = '2'\n",
    "print(my_int2)\n",
    "print(type(my_int2))"
   ]
  },
  {
   "cell_type": "markdown",
   "metadata": {},
   "source": [
    "#### float"
   ]
  },
  {
   "cell_type": "code",
   "execution_count": 7,
   "metadata": {},
   "outputs": [
    {
     "name": "stdout",
     "output_type": "stream",
     "text": [
      "1.0 1.5 2.3\n",
      "<class 'float'> <class 'float'> <class 'float'>\n"
     ]
    }
   ],
   "source": [
    "my_float = float(1)\n",
    "my_float1 = float(1.5)\n",
    "my_float2 = float('2.3')\n",
    "print(my_float, my_float1, my_float2)\n",
    "print(type(my_float), type(my_float1), type(my_float2))"
   ]
  },
  {
   "cell_type": "markdown",
   "metadata": {},
   "source": [
    "Similarly here as well, if you dont use the explicit type using \"float\", then python will determine it using the assigned value."
   ]
  },
  {
   "cell_type": "code",
   "execution_count": 22,
   "metadata": {},
   "outputs": [
    {
     "name": "stdout",
     "output_type": "stream",
     "text": [
      "1\n",
      "<class 'int'>\n",
      "1.5\n",
      "<class 'float'>\n",
      "2\n",
      "<class 'str'>\n"
     ]
    }
   ],
   "source": [
    "my_float = 1\n",
    "print(my_float)\n",
    "print(type(my_float))\n",
    "my_float1 = 1.5\n",
    "print(my_float1)\n",
    "print(type(my_float1))\n",
    "my_float2 = '2'\n",
    "print(my_float2)\n",
    "print(type(my_float2))"
   ]
  },
  {
   "cell_type": "markdown",
   "metadata": {},
   "source": [
    "#### complex"
   ]
  },
  {
   "cell_type": "code",
   "execution_count": 18,
   "metadata": {},
   "outputs": [
    {
     "name": "stdout",
     "output_type": "stream",
     "text": [
      "(1+0j) (1+5j) (1+5j)\n",
      "<class 'complex'> <class 'complex'> <class 'complex'>\n"
     ]
    }
   ],
   "source": [
    "my_complex = complex(1)\n",
    "my_complex1 = complex(1+5j)\n",
    "my_complex2 = complex('1+5j')\n",
    "print(my_complex, my_complex1, my_complex2)\n",
    "print(type(my_complex), type(my_complex1), type(my_complex2))"
   ]
  },
  {
   "cell_type": "code",
   "execution_count": 24,
   "metadata": {},
   "outputs": [
    {
     "name": "stdout",
     "output_type": "stream",
     "text": [
      "1\n",
      "<class 'int'>\n",
      "(1+5j)\n",
      "<class 'complex'>\n",
      "1+5j\n",
      "<class 'str'>\n"
     ]
    }
   ],
   "source": [
    "my_complex = 1\n",
    "print(my_complex)\n",
    "print(type(my_complex))\n",
    "my_complex1 = 1+5j\n",
    "print(my_complex1)\n",
    "print(type(my_complex1))\n",
    "my_complex2 = '1+5j'\n",
    "print(my_complex2)\n",
    "print(type(my_complex2))"
   ]
  },
  {
   "cell_type": "markdown",
   "metadata": {},
   "source": [
    "#### We have covered numbers in details in our previous class as well."
   ]
  },
  {
   "cell_type": "markdown",
   "metadata": {},
   "source": [
    "## Boolean\n",
    "Python provides a Boolean data type. Objects of Boolean type may have one of two values, True or False"
   ]
  },
  {
   "cell_type": "code",
   "execution_count": 25,
   "metadata": {},
   "outputs": [
    {
     "name": "stdout",
     "output_type": "stream",
     "text": [
      "True\n",
      "<class 'bool'>\n",
      "True\n",
      "<class 'bool'>\n"
     ]
    }
   ],
   "source": [
    "my_bool = bool('True') # true with small t also works. \n",
    "print(my_bool)\n",
    "print(type(my_bool))\n",
    "my_bool1 = bool('False') # false with small f also works.\n",
    "print(my_bool1)\n",
    "print(type(my_bool1))"
   ]
  },
  {
   "cell_type": "markdown",
   "metadata": {},
   "source": [
    "### Remeber how implicit assignments works"
   ]
  },
  {
   "cell_type": "code",
   "execution_count": 26,
   "metadata": {},
   "outputs": [
    {
     "name": "stdout",
     "output_type": "stream",
     "text": [
      "True\n",
      "<class 'bool'>\n",
      "True\n",
      "<class 'str'>\n"
     ]
    }
   ],
   "source": [
    "my_bool = True\n",
    "my_bool1 = False\n",
    "print(my_bool)\n",
    "print(type(my_bool))\n",
    "my_bool1 = 'True'\n",
    "print(my_bool1)\n",
    "print(type(my_bool1))"
   ]
  },
  {
   "cell_type": "code",
   "execution_count": 10,
   "metadata": {},
   "outputs": [
    {
     "name": "stdout",
     "output_type": "stream",
     "text": [
      "var\n"
     ]
    }
   ],
   "source": [
    "print('var')"
   ]
  },
  {
   "cell_type": "code",
   "execution_count": 11,
   "metadata": {},
   "outputs": [
    {
     "data": {
      "text/plain": [
       "'var'"
      ]
     },
     "execution_count": 11,
     "metadata": {},
     "output_type": "execute_result"
    }
   ],
   "source": [
    "'var'"
   ]
  },
  {
   "cell_type": "code",
   "execution_count": 1,
   "metadata": {},
   "outputs": [
    {
     "name": "stdout",
     "output_type": "stream",
     "text": [
      "<class 'int'>\n",
      "<class 'float'>\n",
      "<class 'str'>\n",
      "<class 'bool'>\n"
     ]
    }
   ],
   "source": [
    "var  = 1\n",
    "print(type(var))\n",
    "\n",
    "var  = 1.5\n",
    "print(type(var))\n",
    "\n",
    "var  = \"1\"\n",
    "print(type(var))\n",
    "\n",
    "var  = True\n",
    "print(type(var))"
   ]
  },
  {
   "cell_type": "code",
   "execution_count": 3,
   "metadata": {},
   "outputs": [
    {
     "name": "stdout",
     "output_type": "stream",
     "text": [
      "Python is cool\n"
     ]
    }
   ],
   "source": [
    "print(my_string)"
   ]
  },
  {
   "cell_type": "code",
   "execution_count": 4,
   "metadata": {},
   "outputs": [
    {
     "name": "stdout",
     "output_type": "stream",
     "text": [
      "True\n"
     ]
    }
   ],
   "source": [
    "print(var)"
   ]
  },
  {
   "cell_type": "code",
   "execution_count": null,
   "metadata": {},
   "outputs": [],
   "source": []
  }
 ],
 "metadata": {
  "kernelspec": {
   "display_name": "Python 3",
   "language": "python",
   "name": "python3"
  },
  "language_info": {
   "codemirror_mode": {
    "name": "ipython",
    "version": 3
   },
   "file_extension": ".py",
   "mimetype": "text/x-python",
   "name": "python",
   "nbconvert_exporter": "python",
   "pygments_lexer": "ipython3",
   "version": "3.7.6"
  }
 },
 "nbformat": 4,
 "nbformat_minor": 2
}
