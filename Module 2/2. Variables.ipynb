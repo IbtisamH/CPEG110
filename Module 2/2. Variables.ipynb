{
 "cells": [
  {
   "cell_type": "markdown",
   "metadata": {},
   "source": [
    "## [Variables](https://realpython.com/python-variables/)"
   ]
  },
  {
   "cell_type": "markdown",
   "metadata": {},
   "source": [
    "## Variable Assignment\n",
    "Think of a variable as a name attached to a particular object. In Python, variables need not to be declared or defined in advance, as is the case in many other programming languages. To create a variable, you just assign it a value and then start using it. Assignment is done with a single equals sign (=):"
   ]
  },
  {
   "cell_type": "code",
   "execution_count": 1,
   "metadata": {},
   "outputs": [],
   "source": [
    "my_var = 313"
   ]
  },
  {
   "cell_type": "markdown",
   "metadata": {},
   "source": [
    "This is read or interpreted as “my_var is assigned the value of 313.” Once this is done, my_var can be used in a statement or expression, and its value will be substituted:"
   ]
  },
  {
   "cell_type": "code",
   "execution_count": 2,
   "metadata": {},
   "outputs": [
    {
     "name": "stdout",
     "output_type": "stream",
     "text": [
      "313\n"
     ]
    }
   ],
   "source": [
    "print(my_var)"
   ]
  },
  {
   "cell_type": "markdown",
   "metadata": {},
   "source": [
    "Later, if you change the value of my_var and use it again, the new value will be substituted instead:"
   ]
  },
  {
   "cell_type": "code",
   "execution_count": 3,
   "metadata": {},
   "outputs": [
    {
     "name": "stdout",
     "output_type": "stream",
     "text": [
      "The value of my_var before assignment of new value:  313\n",
      "The value of my_var after assignment of new value:  1000\n"
     ]
    }
   ],
   "source": [
    "print('The value of my_var before assignment of new value: ',my_var)\n",
    "my_var = 1000\n",
    "print('The value of my_var after assignment of new value: ',my_var)"
   ]
  },
  {
   "cell_type": "markdown",
   "metadata": {},
   "source": [
    "## Variable Names\n",
    "A variable can have a short name (like x and y) or a more descriptive name (age, carname, total_volume). Rules for Python variables:\n",
    "- A variable name must start with a letter or the underscore character\n",
    "- A variable name cannot start with a number\n",
    "- A variable name can only contain alpha-numeric characters and underscores (A-z, 0-9, and _ )\n",
    "- Variable names are case-sensitive (age, Age and AGE are three different variables)\n",
    "\n",
    "For example, all of the following are valid variable names:"
   ]
  },
  {
   "cell_type": "code",
   "execution_count": 1,
   "metadata": {},
   "outputs": [
    {
     "name": "stdout",
     "output_type": "stream",
     "text": [
      "10 15 20\n"
     ]
    }
   ],
   "source": [
    "age = 10\n",
    "Age = 15\n",
    "AGE = 20\n",
    "print(age,Age,AGE)"
   ]
  },
  {
   "cell_type": "code",
   "execution_count": 2,
   "metadata": {},
   "outputs": [
    {
     "name": "stdout",
     "output_type": "stream",
     "text": [
      "20\n"
     ]
    }
   ],
   "source": [
    "age = 20\n",
    "print(age)"
   ]
  },
  {
   "cell_type": "code",
   "execution_count": 7,
   "metadata": {},
   "outputs": [
    {
     "name": "stdout",
     "output_type": "stream",
     "text": [
      "Bob 54 True\n"
     ]
    }
   ],
   "source": [
    "name = \"Bob\"\n",
    "Age = 54\n",
    "has_car = True\n",
    "print(name, Age, has_car)"
   ]
  },
  {
   "cell_type": "code",
   "execution_count": 6,
   "metadata": {},
   "outputs": [],
   "source": [
    "has_car_ = True"
   ]
  },
  {
   "cell_type": "markdown",
   "metadata": {},
   "source": [
    "#### Assign Value to Multiple Variables\n",
    "Python also allows chained assignment, which makes it possible to assign the same value to several variables simultaneously:"
   ]
  },
  {
   "cell_type": "code",
   "execution_count": 4,
   "metadata": {},
   "outputs": [
    {
     "name": "stdout",
     "output_type": "stream",
     "text": [
      "300 300 300\n"
     ]
    }
   ],
   "source": [
    "my_var1 = my_var2 = my_var3 = 300  # or\n",
    "\n",
    "\n",
    "print(my_var1, my_var2, my_var3)"
   ]
  },
  {
   "cell_type": "markdown",
   "metadata": {},
   "source": [
    "The chained assignment above assigns 300 to the variables my_var1, my_var2 and my_var3 simultaneously."
   ]
  },
  {
   "cell_type": "markdown",
   "metadata": {},
   "source": [
    "Python allows you to assign different values to multiple variables in one line as well, like this:"
   ]
  },
  {
   "cell_type": "code",
   "execution_count": 5,
   "metadata": {},
   "outputs": [
    {
     "name": "stdout",
     "output_type": "stream",
     "text": [
      "Orange Banana Cherry\n"
     ]
    }
   ],
   "source": [
    "x, y, z = \"Orange\", \"Banana\", \"Cherry\" # my_var1, my_var2, my_var3 = 300,300,300\n",
    "print(x, y, z)"
   ]
  },
  {
   "cell_type": "markdown",
   "metadata": {},
   "source": [
    "## Dynamic Variable Types in Python\n",
    "In many programming languages, variables are statically typed. That means a variable is initially declared to have a specific data type, and any value assigned to it during its lifetime must always have that type.\n",
    "\n",
    "For instance in c programing language if you want to create a variable \"a\" that can hold integer value, you first have to declare it as:\n",
    "\n",
    "int a\n",
    "\n",
    "a = 100\n",
    "\n",
    "Now \"a\" can only store integer values. Assigning another value to \"a\" is compilation error. \n",
    "\n",
    "Variables in Python are not subject to this restriction. In Python, a variable may be assigned a value of one type and then later re-assigned a value of a different type:"
   ]
  },
  {
   "cell_type": "code",
   "execution_count": 6,
   "metadata": {},
   "outputs": [
    {
     "name": "stdout",
     "output_type": "stream",
     "text": [
      "313\n",
      "In Python variable \"var\" can store any data type\n"
     ]
    }
   ],
   "source": [
    "var = 313\n",
    "print(var)\n",
    "var = 'In Python variable \"var\" can store any data type'\n",
    "print(var)"
   ]
  },
  {
   "cell_type": "markdown",
   "metadata": {},
   "source": [
    "A Python variable is a symbolic name that is a reference or pointer to an object. Once an object is assigned to a variable, you can refer to the object by that name. But the data itself is still contained within the object.\n",
    "\n",
    "For example:"
   ]
  },
  {
   "cell_type": "code",
   "execution_count": 7,
   "metadata": {},
   "outputs": [],
   "source": [
    "n = 300"
   ]
  },
  {
   "cell_type": "markdown",
   "metadata": {},
   "source": [
    "This assignment creates an integer object with the value 300 and assigns the variable n to point to that object.\n",
    "<img src=\"vr1.png\">\n",
    "The following code verifies that n points to an integer object:"
   ]
  },
  {
   "cell_type": "code",
   "execution_count": 8,
   "metadata": {},
   "outputs": [
    {
     "name": "stdout",
     "output_type": "stream",
     "text": [
      "300\n",
      "<class 'int'>\n"
     ]
    }
   ],
   "source": [
    "print(n)\n",
    "print(type(n))"
   ]
  },
  {
   "cell_type": "markdown",
   "metadata": {},
   "source": [
    "Now consider the following statement:"
   ]
  },
  {
   "cell_type": "code",
   "execution_count": 9,
   "metadata": {},
   "outputs": [],
   "source": [
    "m = n"
   ]
  },
  {
   "cell_type": "markdown",
   "metadata": {},
   "source": [
    "What happens when it is executed? Python does not create another object. It simply creates a new symbolic name or reference, m, which points to the same object that n points to.\n",
    "<img src=\"vr2.png\">\n",
    "Next, suppose you do this:"
   ]
  },
  {
   "cell_type": "code",
   "execution_count": 10,
   "metadata": {},
   "outputs": [],
   "source": [
    "m = 400"
   ]
  },
  {
   "cell_type": "markdown",
   "metadata": {},
   "source": [
    "Now Python creates a new integer object with the value 400, and m becomes a reference to it.\n",
    "<img src=\"vr3.png\">\n",
    "Lastly, suppose this statement is executed next:"
   ]
  },
  {
   "cell_type": "code",
   "execution_count": 11,
   "metadata": {},
   "outputs": [],
   "source": [
    "n = \"foo\""
   ]
  },
  {
   "cell_type": "markdown",
   "metadata": {},
   "source": [
    "Now Python creates a string object with the value \"foo\" and makes n reference that.\n",
    "<img src=\"vr4.png\">\n",
    "There is no longer any reference to the integer object 300. It is orphaned, and there is no way to access it."
   ]
  },
  {
   "cell_type": "code",
   "execution_count": null,
   "metadata": {},
   "outputs": [],
   "source": [
    "n = 300"
   ]
  },
  {
   "cell_type": "markdown",
   "metadata": {},
   "source": [
    "## Augmented Assignment Operators#\n",
    "You have seen that a single equal sign (=) is used to assign a value to a variable. It is, of course, perfectly viable for the value to the right of the assignment to be an expression containing other variables:"
   ]
  },
  {
   "cell_type": "code",
   "execution_count": 14,
   "metadata": {},
   "outputs": [
    {
     "data": {
      "text/plain": [
       "70"
      ]
     },
     "execution_count": 14,
     "metadata": {},
     "output_type": "execute_result"
    }
   ],
   "source": [
    "a = 10\n",
    "b = 20\n",
    "c = a * 5 + b\n",
    "c"
   ]
  },
  {
   "cell_type": "markdown",
   "metadata": {},
   "source": [
    "In fact, the expression to the right of the assignment can include references to the variable that is being assigned to:"
   ]
  },
  {
   "cell_type": "code",
   "execution_count": 7,
   "metadata": {},
   "outputs": [
    {
     "data": {
      "text/plain": [
       "15"
      ]
     },
     "execution_count": 7,
     "metadata": {},
     "output_type": "execute_result"
    }
   ],
   "source": [
    "a = 10\n",
    "a = a + 5\n",
    "a"
   ]
  },
  {
   "cell_type": "code",
   "execution_count": 8,
   "metadata": {},
   "outputs": [
    {
     "data": {
      "text/plain": [
       "60"
      ]
     },
     "execution_count": 8,
     "metadata": {},
     "output_type": "execute_result"
    }
   ],
   "source": [
    "b = 20\n",
    "b = b * 3\n",
    "b"
   ]
  },
  {
   "cell_type": "code",
   "execution_count": 9,
   "metadata": {},
   "outputs": [
    {
     "data": {
      "text/plain": [
       "60"
      ]
     },
     "execution_count": 9,
     "metadata": {},
     "output_type": "execute_result"
    }
   ],
   "source": [
    "b = 20\n",
    "b *= 3 # b = b * 3\n",
    "b"
   ]
  },
  {
   "cell_type": "markdown",
   "metadata": {},
   "source": [
    "Python supports a shorthand augmented assignment notation for these arithmetic and bitwise operators:\n",
    "\n",
    "<style type=\"text/css\">\n",
    ".tg  {border-collapse:collapse;border-spacing:0;}\n",
    ".tg td{border-color:black;border-style:solid;border-width:1px;font-family:Arial, sans-serif;font-size:14px;\n",
    "  overflow:hidden;padding:10px 5px;word-break:normal;}\n",
    ".tg th{border-color:black;border-style:solid;border-width:1px;font-family:Arial, sans-serif;font-size:14px;\n",
    "  font-weight:normal;overflow:hidden;padding:10px 5px;word-break:normal;}\n",
    ".tg .tg-1wig{font-weight:bold;text-align:left;vertical-align:top}\n",
    ".tg .tg-0lax{text-align:left;vertical-align:top}\n",
    "</style>\n",
    "<table class=\"tg\">\n",
    "<thead>\n",
    "  <tr>\n",
    "    <th class=\"tg-1wig\">Arithmetic</th>\n",
    "    <th class=\"tg-1wig\">Bitwise</th>\n",
    "  </tr>\n",
    "</thead>\n",
    "<tbody>\n",
    "  <tr>\n",
    "    <td class=\"tg-0lax\"><span style=\"color:#222\">+</span><br><span style=\"color:#222\">-</span><br><span style=\"color:#222\">*</span><br><span style=\"color:#222\">/</span><br><span style=\"color:#222\">%</span><br><span style=\"color:#222\">//</span><br><span style=\"color:#222\">**</span></td>\n",
    "    <td class=\"tg-0lax\"><span style=\"color:#222\">&amp;</span><br><span style=\"color:#222\">|</span><br><span style=\"color:#222\">^</span><br><span style=\"color:#222\">&gt;&gt;</span><br><span style=\"color:#222\">&lt;&lt;</span></td>\n",
    "  </tr>\n",
    "</tbody>\n",
    "</table>"
   ]
  },
  {
   "cell_type": "raw",
   "metadata": {},
   "source": [
    "For these operators, the following are equivalent:\n",
    "\n",
    "x <op>= y ==> x = x <op> y"
   ]
  },
  {
   "cell_type": "markdown",
   "metadata": {},
   "source": [
    "Take a look at these examples:\n",
    "\n",
    "<style type=\"text/css\">\n",
    ".tg  {border-collapse:collapse;border-spacing:0;}\n",
    ".tg td{border-color:black;border-style:solid;border-width:1px;font-family:Arial, sans-serif;font-size:14px;\n",
    "  overflow:hidden;padding:10px 5px;word-break:normal;}\n",
    ".tg th{border-color:black;border-style:solid;border-width:1px;font-family:Arial, sans-serif;font-size:14px;\n",
    "  font-weight:normal;overflow:hidden;padding:10px 5px;word-break:normal;}\n",
    ".tg .tg-1wig{font-weight:bold;text-align:left;vertical-align:top}\n",
    ".tg .tg-0lax{text-align:left;vertical-align:top}\n",
    "</style>\n",
    "<table class=\"tg\">\n",
    "<thead>\n",
    "  <tr>\n",
    "    <th class=\"tg-1wig\">Augmented<br>Assignment</th>\n",
    "    <th class=\"tg-1wig\"></th>\n",
    "    <th class=\"tg-1wig\">Standard<br>Assignment</th>\n",
    "  </tr>\n",
    "</thead>\n",
    "<tbody>\n",
    "  <tr>\n",
    "    <td class=\"tg-0lax\"><span style=\"color:#222\">a += 5</span></td>\n",
    "    <td class=\"tg-0lax\">is equivalent to</td>\n",
    "    <td class=\"tg-0lax\"><span style=\"color:#222\">a = a + 5</span></td>\n",
    "  </tr>\n",
    "  <tr>\n",
    "    <td class=\"tg-0lax\"><span style=\"color:#222\">a /= 10</span></td>\n",
    "    <td class=\"tg-0lax\">is equivalent to</td>\n",
    "    <td class=\"tg-0lax\"><span style=\"color:#222\">a = a / 10</span></td>\n",
    "  </tr>\n",
    "  <tr>\n",
    "    <td class=\"tg-0lax\"><span style=\"color:#222\">a ^= b</span></td>\n",
    "    <td class=\"tg-0lax\">is equivalent to</td>\n",
    "    <td class=\"tg-0lax\"><span style=\"color:#222\">a = a ^ b</span></td>\n",
    "  </tr>\n",
    "</tbody>\n",
    "</table>"
   ]
  },
  {
   "cell_type": "markdown",
   "metadata": {},
   "source": []
  }
 ],
 "metadata": {
  "kernelspec": {
   "display_name": "Python 3",
   "language": "python",
   "name": "python3"
  },
  "language_info": {
   "codemirror_mode": {
    "name": "ipython",
    "version": 3
   },
   "file_extension": ".py",
   "mimetype": "text/x-python",
   "name": "python",
   "nbconvert_exporter": "python",
   "pygments_lexer": "ipython3",
   "version": "3.7.6"
  }
 },
 "nbformat": 4,
 "nbformat_minor": 2
}
