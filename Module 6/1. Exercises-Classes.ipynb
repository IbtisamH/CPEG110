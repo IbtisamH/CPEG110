{
 "cells": [
  {
   "cell_type": "markdown",
   "metadata": {},
   "source": [
    "# 1. Exercise for Python classes [Object Oriented Programming]"
   ]
  },
  {
   "cell_type": "code",
   "execution_count": 7,
   "metadata": {},
   "outputs": [],
   "source": [
    "# Q-1\n",
    "# Write a Python class which has two methods get_String and print_String. get_String accept a string \n",
    "# from the user and print_String print the string in upper case. \n",
    "# The class should also accept the string through constructor.\n",
    "class String:\n",
    "    st = ''\n",
    "    def __init__(self, st):\n",
    "        self.st = st\n",
    "    def get_String(self):\n",
    "        return self.st\n",
    "    def print_String(self):\n",
    "        print(self.st.upper())"
   ]
  },
  {
   "cell_type": "code",
   "execution_count": 8,
   "metadata": {},
   "outputs": [
    {
     "name": "stdout",
     "output_type": "stream",
     "text": [
      "AssalamoAlikum! This is string class\n",
      "ASSALAMOALIKUM! THIS IS STRING CLASS\n"
     ]
    }
   ],
   "source": [
    "myst = String('AssalamoAlikum! This is string class')\n",
    "print(myst.get_String())\n",
    "myst.print_String()"
   ]
  },
  {
   "cell_type": "code",
   "execution_count": 14,
   "metadata": {},
   "outputs": [],
   "source": [
    "# Q-2\n",
    "# Write a Python class which accepts an integer number through constructor, validate the number \n",
    "# through if condition and use default number if the provided number is invalid. \n",
    "# The class should provide methods getNumber, isPrime, isOdd to get the number, \n",
    "# to check if number is prime and to check if number is odd respectively.\n",
    "class Integer:\n",
    "    number = 0\n",
    "    def __init__(self, num):\n",
    "        if isinstance(num, int):\n",
    "            self.number = num\n",
    "        else:\n",
    "            print('The provided number is not integer. Setting this number to default value 1')\n",
    "            self.number = 1\n",
    "    \n",
    "    def getNumber(self):\n",
    "        return self.number\n",
    "    def isPrime(self):\n",
    "        if self.number>2:\n",
    "            for i in range(2,self.number//2):\n",
    "                if self.number%i==0:\n",
    "                    return False\n",
    "        return True\n",
    "    def isOdd(self):\n",
    "        if self.number%2==0:\n",
    "            return False\n",
    "        return True"
   ]
  },
  {
   "cell_type": "code",
   "execution_count": 44,
   "metadata": {},
   "outputs": [
    {
     "name": "stdout",
     "output_type": "stream",
     "text": [
      "The provided number is not integer. Setting this number to default value 1\n",
      "The number is:  1\n",
      "Is it Prime:  True\n",
      "Is it Odd:  True\n"
     ]
    }
   ],
   "source": [
    "myNum = Integer('13')\n",
    "print('The number is: ',myNum.getNumber())\n",
    "print('Is it Prime: ',myNum.isPrime())\n",
    "print('Is it Odd: ',myNum.isOdd())"
   ]
  },
  {
   "cell_type": "code",
   "execution_count": 19,
   "metadata": {},
   "outputs": [],
   "source": [
    "# Q-3\n",
    "# Write a Python class which accepts a list of numbers through constructor, validate the number \n",
    "# through if condition and use default list of numbers if the provided numbers are not valid. \n",
    "# The class should provide methods getSum, getMax, getMin, getUniqueNumbers and getFrequencies\n",
    "# to get the sum, max, min, unique numbers and frequencies of numbers in the list respectively.\n",
    "\n",
    "class IntegerList:\n",
    "    numbers = []\n",
    "    def __init__(self, nums):\n",
    "        self.numbers = nums\n",
    "        for i in range(len(self.numbers)):\n",
    "            if not isinstance(self.numbers[i], int):\n",
    "                print('Item at index {} is not integer, setting it to 1'.format(i))\n",
    "                self.numbers[i] = 1\n",
    "    def getSum(self):\n",
    "        return sum(self.numbers)\n",
    "    def getMax(self):\n",
    "        return max(self.numbers)\n",
    "    def getMin(self):\n",
    "        return min(self.numbers)\n",
    "    def getUniqueNumbers(self):\n",
    "        return set(self.numbers)\n",
    "    def getFrequencies(self):\n",
    "        freq = {}\n",
    "        for n in self.numbers:\n",
    "            if n in freq:\n",
    "                freq[n] += 1\n",
    "            else:\n",
    "                freq[n] = 1\n",
    "        return freq"
   ]
  },
  {
   "cell_type": "code",
   "execution_count": 45,
   "metadata": {},
   "outputs": [
    {
     "name": "stdout",
     "output_type": "stream",
     "text": [
      "Item at index 18 is not integer, setting it to 1\n",
      "Sum  97\n",
      "Max  8\n",
      "Min  1\n",
      "Unique Numbers  {1, 3, 4, 5, 6, 7, 8}\n",
      "Frequencies of Numbers  {1: 2, 3: 1, 5: 4, 6: 4, 7: 4, 8: 1, 4: 3}\n"
     ]
    }
   ],
   "source": [
    "numbers = [1,3,5,6,7,8,4,5,6,7,4,5,6,7,4,5,6,7,'a']\n",
    "intLst = IntegerList(numbers)\n",
    "print('Sum ',intLst.getSum())\n",
    "print('Max ',intLst.getMax())\n",
    "print('Min ',intLst.getMin())\n",
    "print('Unique Numbers ',intLst.getUniqueNumbers())\n",
    "print('Frequencies of Numbers ',intLst.getFrequencies())"
   ]
  },
  {
   "cell_type": "code",
   "execution_count": 42,
   "metadata": {},
   "outputs": [],
   "source": [
    "# Q-4\n",
    "# Write a Python class which accepts a list of items through constructor. \n",
    "# The class should provide methods linearSearch and binarySearch to search a an item in the list.\n",
    "class SearchingInList:\n",
    "    lst = []\n",
    "    def __init__(self,lst):\n",
    "        self.lst = lst\n",
    "        self.lst = sorted(self.lst)\n",
    "    def linearSearch(self, element):\n",
    "        for i in range (len(self.lst)):\n",
    "            if self.lst[i] == element:\n",
    "                return i\n",
    "        return -1\n",
    "    \n",
    "    def binarySearch(self, element):\n",
    "        low = 0\n",
    "        high = len(self.lst)-1 \n",
    "        while low <= high:       # There is still a range to search\n",
    "            mid = (low + high)//2 # Position of middle item\n",
    "            item = self.lst[mid]\n",
    "            if element == item:        # Found it! Return the index\n",
    "                return mid\n",
    "            elif element < item:       # x is in lower half of range\n",
    "                high = mid - 1   #  move top marker down\n",
    "            else:                # x is in upper half of range\n",
    "                low = mid + 1    #  move bottom marker up\n",
    "        return -1                # No range left to search,\n",
    "                             # x is not there\n"
   ]
  },
  {
   "cell_type": "code",
   "execution_count": 46,
   "metadata": {},
   "outputs": [
    {
     "name": "stdout",
     "output_type": "stream",
     "text": [
      "Linear Search  13\n",
      "Binary Search  13\n"
     ]
    }
   ],
   "source": [
    "numbers = [1,3,5,6,7,8,4,5,6,7,4,5,6,7,4,5,6,7]\n",
    "serLst = SearchingInList(numbers)\n",
    "print('Linear Search ',serLst.linearSearch(7))\n",
    "print('Binary Search ',serLst.binarySearch(7))"
   ]
  },
  {
   "cell_type": "code",
   "execution_count": null,
   "metadata": {},
   "outputs": [],
   "source": []
  },
  {
   "cell_type": "code",
   "execution_count": null,
   "metadata": {},
   "outputs": [],
   "source": []
  }
 ],
 "metadata": {
  "kernelspec": {
   "display_name": "Python 3",
   "language": "python",
   "name": "python3"
  },
  "language_info": {
   "codemirror_mode": {
    "name": "ipython",
    "version": 3
   },
   "file_extension": ".py",
   "mimetype": "text/x-python",
   "name": "python",
   "nbconvert_exporter": "python",
   "pygments_lexer": "ipython3",
   "version": "3.7.4"
  }
 },
 "nbformat": 4,
 "nbformat_minor": 2
}
