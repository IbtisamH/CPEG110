{
 "cells": [
  {
   "cell_type": "markdown",
   "metadata": {},
   "source": [
    "# 1. Exercise for Python classes [Object Oriented Programming]-Part 2"
   ]
  },
  {
   "cell_type": "code",
   "execution_count": null,
   "metadata": {},
   "outputs": [],
   "source": [
    "# Q-1\n",
    "# Write a Python class Integer which has one attribute number. \n",
    "# The number attribute should be initialize through construtor and should be checked to be int.\n",
    "# The class should have methods for operators +, -, /, *, <, <=, >, >=, and =="
   ]
  },
  {
   "cell_type": "code",
   "execution_count": null,
   "metadata": {},
   "outputs": [],
   "source": [
    "# Q-2\n",
    "# Write a Python class Student. The student class should have two attributes ID and Name. \n",
    "# The student class should have multiple ways to initialize these attributes through constructor\n",
    "# The student class should have methods for setting and getting values of those attributes.\n",
    "# There should be two drived classes from student class, \n",
    "# which are PostGradStudent and UnderGradStudent. These new classes should have one additional \n",
    "# attribute degree. The classes should provide methods for setting and getting the degree attribute"
   ]
  },
  {
   "cell_type": "code",
   "execution_count": 1,
   "metadata": {},
   "outputs": [],
   "source": [
    "# Q-3\n",
    "# Write a Python class Mobile with attributes (properties) and methods as in below mobile hierarchy.\n",
    "# Write the inherited classes IPhone and Samsung. Imagin what should be included in IPhone and Samsung\n",
    "# Write further inherited classes of IPhone (IPhone8, IPhone11) and Samsung (GalaxyS9, GalaxyS10) \n",
    "# Imagin what new should be included in these inherited classes."
   ]
  },
  {
   "cell_type": "markdown",
   "metadata": {},
   "source": [
    "<img src = 'hierarchy.png'>"
   ]
  },
  {
   "cell_type": "code",
   "execution_count": null,
   "metadata": {},
   "outputs": [],
   "source": []
  }
 ],
 "metadata": {
  "kernelspec": {
   "display_name": "Python 3",
   "language": "python",
   "name": "python3"
  },
  "language_info": {
   "codemirror_mode": {
    "name": "ipython",
    "version": 3
   },
   "file_extension": ".py",
   "mimetype": "text/x-python",
   "name": "python",
   "nbconvert_exporter": "python",
   "pygments_lexer": "ipython3",
   "version": "3.7.4"
  }
 },
 "nbformat": 4,
 "nbformat_minor": 2
}
