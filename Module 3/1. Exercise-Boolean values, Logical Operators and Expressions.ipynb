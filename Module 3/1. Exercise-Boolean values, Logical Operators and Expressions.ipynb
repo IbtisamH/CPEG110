{
 "cells": [
  {
   "cell_type": "markdown",
   "metadata": {},
   "source": [
    "# 1. Boolean context"
   ]
  },
  {
   "cell_type": "code",
   "execution_count": null,
   "metadata": {},
   "outputs": [],
   "source": [
    "# Consider the following boolean variables\n",
    "x = True\n",
    "Y = False"
   ]
  },
  {
   "cell_type": "code",
   "execution_count": null,
   "metadata": {},
   "outputs": [],
   "source": [
    "# Evaluate the following boolean expressions in your head, then use the active code cell to check your results:\n",
    "\n",
    "# the use of or operator\n",
    "\n",
    "# x or x =\n",
    "\n",
    "# x or y = \n",
    "\n",
    "# y or x =\n",
    "\n",
    "# y or y ="
   ]
  },
  {
   "cell_type": "code",
   "execution_count": null,
   "metadata": {},
   "outputs": [],
   "source": [
    "# The use of and operator\n",
    "\n",
    "# x and x =\n",
    "\n",
    "# x and y = \n",
    " \n",
    "# y and x =\n",
    " \n",
    "# y and y ="
   ]
  },
  {
   "cell_type": "code",
   "execution_count": null,
   "metadata": {},
   "outputs": [],
   "source": [
    "# The use of not operator\n",
    "\n",
    "# not x\n",
    "\n",
    "# not y"
   ]
  },
  {
   "cell_type": "code",
   "execution_count": null,
   "metadata": {},
   "outputs": [],
   "source": [
    "# The use of xor operator\n",
    " \n",
    "# x ^ x =\n",
    " \n",
    "# x ^ y = \n",
    " \n",
    "# y ^ x =\n",
    " \n",
    "# y ^ y ="
   ]
  },
  {
   "cell_type": "code",
   "execution_count": null,
   "metadata": {},
   "outputs": [],
   "source": [
    "# Combination of operators\n",
    " \n",
    "# What will be the value of the following experesions\n",
    " \n",
    "# (x or y) and (y or x)\n",
    " \n",
    "# not ((x or y) and (y or x))\n",
    " \n",
    "# (x and y) or (y and x)\n",
    " \n",
    "# not ((x and y) or (y and x))\n",
    " \n",
    "# (x and y) ^ (x or y)\n",
    " \n",
    "# not ((x and y) ^ (x or y))"
   ]
  },
  {
   "cell_type": "markdown",
   "metadata": {},
   "source": [
    "# 2. Composite Data type"
   ]
  },
  {
   "cell_type": "code",
   "execution_count": null,
   "metadata": {},
   "outputs": [],
   "source": [
    "# What is the boolean value of following variables\n",
    "x = 5\n",
    "y = 10.123\n",
    "z = 'Python'"
   ]
  },
  {
   "cell_type": "code",
   "execution_count": 7,
   "metadata": {},
   "outputs": [],
   "source": [
    "# What is the boolean value of following variables\n",
    "a = 0\n",
    "b = 0.0\n",
    "c = ''"
   ]
  },
  {
   "cell_type": "code",
   "execution_count": 10,
   "metadata": {},
   "outputs": [],
   "source": [
    "# What is the boolean value of following variables\n",
    "l = [1,2,3,4,5]\n",
    "t = (1,2,3,4,5)\n",
    "s = {1,2,3,4,5}\n",
    "d = {'one':1, 'two':2, 'three':3}"
   ]
  },
  {
   "cell_type": "code",
   "execution_count": 15,
   "metadata": {},
   "outputs": [],
   "source": [
    "# What is the boolean value of following variables\n",
    "l = []\n",
    "t = ()\n",
    "s = set()\n",
    "d = dict()"
   ]
  },
  {
   "cell_type": "code",
   "execution_count": 21,
   "metadata": {},
   "outputs": [],
   "source": [
    "# What is the boolean value of x, when\n",
    "x = None"
   ]
  },
  {
   "cell_type": "code",
   "execution_count": null,
   "metadata": {},
   "outputs": [],
   "source": []
  }
 ],
 "metadata": {
  "kernelspec": {
   "display_name": "Python 3",
   "language": "python",
   "name": "python3"
  },
  "language_info": {
   "codemirror_mode": {
    "name": "ipython",
    "version": 3
   },
   "file_extension": ".py",
   "mimetype": "text/x-python",
   "name": "python",
   "nbconvert_exporter": "python",
   "pygments_lexer": "ipython3",
   "version": "3.7.6"
  }
 },
 "nbformat": 4,
 "nbformat_minor": 2
}
