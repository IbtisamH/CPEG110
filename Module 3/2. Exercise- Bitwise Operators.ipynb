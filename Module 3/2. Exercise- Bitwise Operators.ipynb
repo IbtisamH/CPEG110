{
 "cells": [
  {
   "cell_type": "markdown",
   "metadata": {},
   "source": [
    "# 1. Bitwise Operators"
   ]
  },
  {
   "cell_type": "code",
   "execution_count": null,
   "metadata": {},
   "outputs": [],
   "source": [
    "# Remember the bitwise & operator gives us\n",
    "0 & 0 = 0\n",
    "0 & 1 = 0\n",
    "1 & 0 = 0\n",
    "1 & 1 = 1\n",
    "\n",
    "# | operator\n",
    "0 | 0 = 0\n",
    "0 | 1 = 1\n",
    "1 | 0 = 1\n",
    "1 | 1 = 1\n",
    "\n",
    "# ^ operator\n",
    "0 ^ 0 = 0\n",
    "0 ^ 1 = 1\n",
    "1 ^ 0 = 1\n",
    "1 ^ 1 = 0\n",
    "\n",
    "# NOT (~) bitwise operator\n",
    "#The bitwise NOT operator (~) just flips all of the bits in a single number. \n",
    "#What this actually means to the computer is actually very complicated, so we're not going to get into it. \n",
    "#Just know that mathematically, this is equivalent to adding one to the number and then making it negative. \n",
    "#For example:\n",
    "\n",
    "# x = 3\n",
    "# ~x = -4\n",
    "# y = 42\n",
    "# ~y = -43"
   ]
  },
  {
   "cell_type": "code",
   "execution_count": null,
   "metadata": {},
   "outputs": [],
   "source": []
  }
 ],
 "metadata": {
  "kernelspec": {
   "display_name": "Python 3",
   "language": "python",
   "name": "python3"
  },
  "language_info": {
   "codemirror_mode": {
    "name": "ipython",
    "version": 3
   },
   "file_extension": ".py",
   "mimetype": "text/x-python",
   "name": "python",
   "nbconvert_exporter": "python",
   "pygments_lexer": "ipython3",
   "version": "3.7.6"
  }
 },
 "nbformat": 4,
 "nbformat_minor": 2
}
