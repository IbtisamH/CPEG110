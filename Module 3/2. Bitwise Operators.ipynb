{
 "cells": [
  {
   "cell_type": "markdown",
   "metadata": {},
   "source": [
    "# Binary Values & Bitwise Operators\n",
    "## Assign binary value to the variable\n",
    "To assign binary values to the variable, we use prefix 0b or 0B with the binary value.\n",
    "\n",
    "Example:"
   ]
  },
  {
   "cell_type": "code",
   "execution_count": 7,
   "metadata": {},
   "outputs": [
    {
     "name": "stdout",
     "output_type": "stream",
     "text": [
      "num:  61\n",
      "num:  61\n"
     ]
    }
   ],
   "source": [
    "# assign number as binary \n",
    "# prefix 0b \n",
    "num = 0b111101\n",
    "print(\"num: \", num)\n",
    "\n",
    "# prefix 0B \n",
    "num = 0B111101\n",
    "print(\"num: \", num)"
   ]
  },
  {
   "cell_type": "markdown",
   "metadata": {},
   "source": [
    "## Convert a decimal value to binary\n",
    "To convert a decimal value to the binary, we use bin() Method, which is an inbuilt method in the Python.\n",
    "\n",
    "Example: Python program, that returns a binary value of given decimal value"
   ]
  },
  {
   "cell_type": "code",
   "execution_count": 2,
   "metadata": {},
   "outputs": [
    {
     "name": "stdout",
     "output_type": "stream",
     "text": [
      "num (decimal) :  61\n",
      "num (binary ) :  0b111101\n"
     ]
    }
   ],
   "source": [
    "num = 61\n",
    "# print num in decimal and binary format \n",
    "print(\"num (decimal) : \", num)\n",
    "print(\"num (binary ) : \", bin(num))"
   ]
  },
  {
   "cell_type": "markdown",
   "metadata": {},
   "source": [
    "## Convert binary value to decimal\n",
    "When, we print the binary value – there is no need to convert it; print() method prints the value in decimal format, like\n",
    "\n",
    "print(0b111101) - its output will be 61.\n",
    "\n",
    "Still, we can use int() method to convert it into decimal by defining base of the number system.\n",
    "\n",
    "Example:"
   ]
  },
  {
   "cell_type": "code",
   "execution_count": 3,
   "metadata": {},
   "outputs": [
    {
     "name": "stdout",
     "output_type": "stream",
     "text": [
      "61\n",
      "61\n"
     ]
    }
   ],
   "source": [
    "# print by using binary value\n",
    "print(0b111101)\n",
    "# print by converting to decimal\n",
    "print(int('0b111101', 2))"
   ]
  },
  {
   "cell_type": "code",
   "execution_count": 13,
   "metadata": {},
   "outputs": [
    {
     "data": {
      "text/plain": [
       "61"
      ]
     },
     "execution_count": 13,
     "metadata": {},
     "output_type": "execute_result"
    }
   ],
   "source": [
    "int(\"61\")"
   ]
  },
  {
   "cell_type": "markdown",
   "metadata": {},
   "source": [
    "## Bitwise Operators\n",
    "Bitwise operators treat operands as sequences of binary digits and operate on them bit by bit. The following operators are supported:\n",
    "\n",
    "<style type=\"text/css\">\n",
    ".tg  {border-collapse:collapse;border-spacing:0;}\n",
    ".tg td{border-color:black;border-style:solid;border-width:1px;font-family:Arial, sans-serif;font-size:14px;\n",
    "  overflow:hidden;padding:10px 5px;word-break:normal;}\n",
    ".tg th{border-color:black;border-style:solid;border-width:1px;font-family:Arial, sans-serif;font-size:14px;\n",
    "  font-weight:normal;overflow:hidden;padding:10px 5px;word-break:normal;}\n",
    ".tg .tg-1wig{font-weight:bold;text-align:left;vertical-align:top}\n",
    ".tg .tg-0lax{text-align:left;vertical-align:top}\n",
    "</style>\n",
    "<table class=\"tg\">\n",
    "<thead>\n",
    "  <tr>\n",
    "    <th class=\"tg-1wig\">Operator</th>\n",
    "    <th class=\"tg-1wig\">Example</th>\n",
    "    <th class=\"tg-1wig\">Meaning</th>\n",
    "    <th class=\"tg-1wig\">Result</th>\n",
    "  </tr>\n",
    "</thead>\n",
    "<tbody>\n",
    "  <tr>\n",
    "    <td class=\"tg-0lax\"><span style=\"color:#222\">&amp;</span></td>\n",
    "    <td class=\"tg-0lax\"><span style=\"color:#222\">a &amp; b</span></td>\n",
    "    <td class=\"tg-0lax\">bitwise <span style=\"font-weight:bolder\">AND</span></td>\n",
    "    <td class=\"tg-0lax\">Each bit position in the result is the logical <span style=\"font-weight:bolder\">AND</span> of the bits in the corresponding position of the operands. (<span style=\"color:#222\">1</span> if both are <span style=\"color:#222\">1</span>, otherwise <span style=\"color:#222\">0</span>.)</td>\n",
    "  </tr>\n",
    "  <tr>\n",
    "    <td class=\"tg-0lax\"><span style=\"color:#222\">|</span></td>\n",
    "    <td class=\"tg-0lax\"><span style=\"color:#222\">a | b</span></td>\n",
    "    <td class=\"tg-0lax\">bitwise <span style=\"font-weight:bolder\">OR</span></td>\n",
    "    <td class=\"tg-0lax\">Each bit position in the result is the logical <span style=\"font-weight:bolder\">OR</span> of the bits in the corresponding position of the operands. (<span style=\"color:#222\">1</span> if either is <span style=\"color:#222\">1</span>, otherwise <span style=\"color:#222\">0</span>.)</td>\n",
    "  </tr>\n",
    "  <tr>\n",
    "    <td class=\"tg-0lax\"><span style=\"color:#222\">~</span></td>\n",
    "    <td class=\"tg-0lax\"><span style=\"color:#222\">~a</span></td>\n",
    "    <td class=\"tg-0lax\">bitwise <span style=\"font-weight:bolder\">negation</span></td>\n",
    "    <td class=\"tg-0lax\">Returns one’s compliement of the number. (<span style=\"color:#222\">1</span> if <span style=\"color:#222\">0</span>, <span style=\"color:#222\">0</span> if <span style=\"color:#222\">1</span>.)</td>\n",
    "  </tr>\n",
    "  <tr>\n",
    "    <td class=\"tg-0lax\"><span style=\"color:#222\">^</span></td>\n",
    "    <td class=\"tg-0lax\"><span style=\"color:#222\">a ^ b</span></td>\n",
    "    <td class=\"tg-0lax\">bitwise <span style=\"font-weight:bolder\">XOR (exclusive OR)</span></td>\n",
    "    <td class=\"tg-0lax\">Each bit position in the result is the logical <span style=\"font-weight:bolder\">XOR</span> of the bits in the corresponding position of the operands. (<span style=\"color:#222\">1</span> if the bits in the operands are different, <span style=\"color:#222\">0</span> if they are the same.)</td>\n",
    "  </tr>\n",
    "  <tr>\n",
    "    <td class=\"tg-0lax\"><span style=\"color:#222\">&gt;&gt;</span></td>\n",
    "    <td class=\"tg-0lax\"><span style=\"color:#222\">a &gt;&gt; n</span></td>\n",
    "    <td class=\"tg-0lax\"><span style=\"font-weight:bolder\">Shift right</span> <span style=\"color:#222\">n</span> <span style=\"font-weight:bolder\">places</span></td>\n",
    "    <td class=\"tg-0lax\">Each bit is shifted right <span style=\"color:#222\">n</span> places.</td>\n",
    "  </tr>\n",
    "  <tr>\n",
    "    <td class=\"tg-0lax\"><span style=\"color:#222\">&lt;&lt;</span></td>\n",
    "    <td class=\"tg-0lax\"><span style=\"color:#222\">a &lt;&lt; n</span></td>\n",
    "    <td class=\"tg-0lax\"><span style=\"font-weight:bolder\">Shift left</span> <span style=\"color:#222\">n</span> <span style=\"font-weight:bolder\">places</span></td>\n",
    "    <td class=\"tg-0lax\">Each bit is shifted left <span style=\"color:#222\">n</span> places.</td>\n",
    "  </tr>\n",
    "</tbody>\n",
    "</table>"
   ]
  },
  {
   "cell_type": "markdown",
   "metadata": {},
   "source": [
    "Here are some examples:"
   ]
  },
  {
   "cell_type": "code",
   "execution_count": 6,
   "metadata": {},
   "outputs": [],
   "source": [
    "a = 0b1100\n",
    "b = 0b1010 "
   ]
  },
  {
   "cell_type": "code",
   "execution_count": 7,
   "metadata": {},
   "outputs": [
    {
     "name": "stdout",
     "output_type": "stream",
     "text": [
      "8\n",
      "0b1000\n"
     ]
    }
   ],
   "source": [
    "print(a & b)\n",
    "print(bin(a & b))"
   ]
  },
  {
   "cell_type": "code",
   "execution_count": 9,
   "metadata": {},
   "outputs": [
    {
     "data": {
      "text/plain": [
       "'0b1000'"
      ]
     },
     "execution_count": 9,
     "metadata": {},
     "output_type": "execute_result"
    }
   ],
   "source": [
    "'0b{:04b}'.format(a & b)"
   ]
  },
  {
   "cell_type": "code",
   "execution_count": 10,
   "metadata": {},
   "outputs": [
    {
     "name": "stdout",
     "output_type": "stream",
     "text": [
      "14\n",
      "0b1110\n"
     ]
    }
   ],
   "source": [
    "print(a | b)\n",
    "print(bin(a | b))"
   ]
  },
  {
   "cell_type": "code",
   "execution_count": 8,
   "metadata": {},
   "outputs": [
    {
     "data": {
      "text/plain": [
       "'0b1110'"
      ]
     },
     "execution_count": 8,
     "metadata": {},
     "output_type": "execute_result"
    }
   ],
   "source": [
    "'0b{:04b}'.format(a | b)"
   ]
  },
  {
   "cell_type": "code",
   "execution_count": 11,
   "metadata": {},
   "outputs": [
    {
     "name": "stdout",
     "output_type": "stream",
     "text": [
      "6\n",
      "0b110\n"
     ]
    }
   ],
   "source": [
    "print(a ^ b)\n",
    "print(bin(a ^ b))"
   ]
  },
  {
   "cell_type": "code",
   "execution_count": 12,
   "metadata": {},
   "outputs": [
    {
     "data": {
      "text/plain": [
       "'0b0110'"
      ]
     },
     "execution_count": 12,
     "metadata": {},
     "output_type": "execute_result"
    }
   ],
   "source": [
    "'0b{:04b}'.format(a ^ b)"
   ]
  },
  {
   "cell_type": "code",
   "execution_count": 18,
   "metadata": {},
   "outputs": [
    {
     "name": "stdout",
     "output_type": "stream",
     "text": [
      "3\n",
      "0b11\n"
     ]
    }
   ],
   "source": [
    "a = 0b1100 \n",
    "print(a >> 2)\n",
    "print(bin(a >> 2))"
   ]
  },
  {
   "cell_type": "code",
   "execution_count": 21,
   "metadata": {},
   "outputs": [
    {
     "data": {
      "text/plain": [
       "'0b0011'"
      ]
     },
     "execution_count": 21,
     "metadata": {},
     "output_type": "execute_result"
    }
   ],
   "source": [
    "'0b{:04b}'.format(a >> 2)"
   ]
  },
  {
   "cell_type": "code",
   "execution_count": 16,
   "metadata": {},
   "outputs": [
    {
     "name": "stdout",
     "output_type": "stream",
     "text": [
      "12\n",
      "0b1100\n"
     ]
    }
   ],
   "source": [
    "a = 0b0011\n",
    "print(a << 2)\n",
    "print(bin(a << 2))"
   ]
  },
  {
   "cell_type": "code",
   "execution_count": 17,
   "metadata": {},
   "outputs": [
    {
     "data": {
      "text/plain": [
       "'0b0110'"
      ]
     },
     "execution_count": 17,
     "metadata": {},
     "output_type": "execute_result"
    }
   ],
   "source": [
    "'0b{:04b}'.format(a << 1)"
   ]
  },
  {
   "cell_type": "markdown",
   "metadata": {},
   "source": [
    "## Operator Precedence\n",
    "Consider this expression:"
   ]
  },
  {
   "cell_type": "code",
   "execution_count": 24,
   "metadata": {},
   "outputs": [
    {
     "data": {
      "text/plain": [
       "60"
      ]
     },
     "execution_count": 24,
     "metadata": {},
     "output_type": "execute_result"
    }
   ],
   "source": [
    "20 + 4 * 10"
   ]
  },
  {
   "cell_type": "markdown",
   "metadata": {},
   "source": [
    "There is ambiguity here. Should Python perform the addition 20 + 4 first and then multiply the sum by 10? Or should the multiplication 4 * 10 be performed first, and the addition of 20 second?\n",
    "\n",
    "Clearly, since the result is 60, Python has chosen the latter; if it had chosen the former, the result would be 240. This is standard algebraic procedure, found universally in virtually all programming languages.\n",
    "\n",
    "All operators that the language supports are assigned a precedence. In an expression, all operators of highest precedence are performed first. Once those results are obtained, operators of the next highest precedence are performed. So it continues, until the expression is fully evaluated. Any operators of equal precedence are performed in left-to-right order.\n",
    "\n",
    "Here is the order of precedence of the Python operators you have seen so far, from lowest to highest:"
   ]
  },
  {
   "cell_type": "markdown",
   "metadata": {},
   "source": [
    "<style type=\"text/css\">\n",
    ".tg  {border-collapse:collapse;border-spacing:0;}\n",
    ".tg td{border-color:black;border-style:solid;border-width:1px;font-family:Arial, sans-serif;font-size:14px;\n",
    "  overflow:hidden;padding:10px 5px;word-break:normal;}\n",
    ".tg th{border-color:black;border-style:solid;border-width:1px;font-family:Arial, sans-serif;font-size:14px;\n",
    "  font-weight:normal;overflow:hidden;padding:10px 5px;word-break:normal;}\n",
    ".tg .tg-1wig{font-weight:bold;text-align:left;vertical-align:top}\n",
    ".tg .tg-0lax{text-align:left;vertical-align:top}\n",
    "</style>\n",
    "<table class=\"tg\">\n",
    "<thead>\n",
    "  <tr>\n",
    "    <th class=\"tg-1wig\">Operator</th>\n",
    "    <th class=\"tg-1wig\">Description</th>\n",
    "    <th class=\"tg-1wig\"></th>\n",
    "  </tr>\n",
    "</thead>\n",
    "<tbody>\n",
    "  <tr>\n",
    "    <td class=\"tg-0lax\">lowest precedence</td>\n",
    "    <td class=\"tg-0lax\"><span style=\"color:#222\">or</span></td>\n",
    "    <td class=\"tg-0lax\">Boolean OR</td>\n",
    "  </tr>\n",
    "  <tr>\n",
    "    <td class=\"tg-0lax\"></td>\n",
    "    <td class=\"tg-0lax\"><span style=\"color:#222\">and</span></td>\n",
    "    <td class=\"tg-0lax\">Boolean AND</td>\n",
    "  </tr>\n",
    "  <tr>\n",
    "    <td class=\"tg-0lax\"></td>\n",
    "    <td class=\"tg-0lax\"><span style=\"color:#222\">not</span></td>\n",
    "    <td class=\"tg-0lax\">Boolean NOT</td>\n",
    "  </tr>\n",
    "  <tr>\n",
    "    <td class=\"tg-0lax\"></td>\n",
    "    <td class=\"tg-0lax\"><span style=\"color:#222\">==</span>, <span style=\"color:#222\">!=</span>, <span style=\"color:#222\">&lt;</span>, <span style=\"color:#222\">&lt;=</span>, <span style=\"color:#222\">&gt;</span>, <span style=\"color:#222\">&gt;=</span>, <span style=\"color:#222\">is</span>, <span style=\"color:#222\">is not</span></td>\n",
    "    <td class=\"tg-0lax\">comparisons, identity</td>\n",
    "  </tr>\n",
    "  <tr>\n",
    "    <td class=\"tg-0lax\"></td>\n",
    "    <td class=\"tg-0lax\"><span style=\"color:#222\">|</span></td>\n",
    "    <td class=\"tg-0lax\">bitwise OR</td>\n",
    "  </tr>\n",
    "  <tr>\n",
    "    <td class=\"tg-0lax\"></td>\n",
    "    <td class=\"tg-0lax\"><span style=\"color:#222\">^</span></td>\n",
    "    <td class=\"tg-0lax\">bitwise XOR</td>\n",
    "  </tr>\n",
    "  <tr>\n",
    "    <td class=\"tg-0lax\"></td>\n",
    "    <td class=\"tg-0lax\"><span style=\"color:#222\">&amp;</span></td>\n",
    "    <td class=\"tg-0lax\">bitwise AND</td>\n",
    "  </tr>\n",
    "  <tr>\n",
    "    <td class=\"tg-0lax\"></td>\n",
    "    <td class=\"tg-0lax\"><span style=\"color:#222\">&lt;&lt;</span>, <span style=\"color:#222\">&gt;&gt;</span></td>\n",
    "    <td class=\"tg-0lax\">bit shifts</td>\n",
    "  </tr>\n",
    "  <tr>\n",
    "    <td class=\"tg-0lax\"></td>\n",
    "    <td class=\"tg-0lax\"><span style=\"color:#222\">+</span>, <span style=\"color:#222\">-</span></td>\n",
    "    <td class=\"tg-0lax\">addition, subtraction</td>\n",
    "  </tr>\n",
    "  <tr>\n",
    "    <td class=\"tg-0lax\"></td>\n",
    "    <td class=\"tg-0lax\"><span style=\"color:#222\">*</span>, <span style=\"color:#222\">/</span>, <span style=\"color:#222\">//</span>, <span style=\"color:#222\">%</span></td>\n",
    "    <td class=\"tg-0lax\">multiplication, division, floor division, modulo</td>\n",
    "  </tr>\n",
    "  <tr>\n",
    "    <td class=\"tg-0lax\"></td>\n",
    "    <td class=\"tg-0lax\"><span style=\"color:#222\">+x</span>, <span style=\"color:#222\">-x</span>, <span style=\"color:#222\">~x</span></td>\n",
    "    <td class=\"tg-0lax\">unary positive, unary negation, bitwise negation</td>\n",
    "  </tr>\n",
    "  <tr>\n",
    "    <td class=\"tg-0lax\">highest precedence</td>\n",
    "    <td class=\"tg-0lax\"><span style=\"color:#222\">**</span></td>\n",
    "    <td class=\"tg-0lax\">exponentiation</td>\n",
    "  </tr>\n",
    "</tbody>\n",
    "</table>"
   ]
  },
  {
   "cell_type": "markdown",
   "metadata": {},
   "source": [
    "Operators at the top of the table have the lowest precedence, and those at the bottom of the table have the highest. Any operators in the same row of the table have equal precedence.\n",
    "\n",
    "It is clear why multiplication is performed first in the example above: multiplication has a higher precedence than addition.\n",
    "\n",
    "Similarly, in the example below, 3 is raised to the power of 4 first, which equals 81, and then the multiplications are carried out in order from left to right (2 * 81 * 5 = 810):"
   ]
  },
  {
   "cell_type": "code",
   "execution_count": 25,
   "metadata": {},
   "outputs": [
    {
     "data": {
      "text/plain": [
       "810"
      ]
     },
     "execution_count": 25,
     "metadata": {},
     "output_type": "execute_result"
    }
   ],
   "source": [
    "2 * 3 ** 4 * 5"
   ]
  },
  {
   "cell_type": "markdown",
   "metadata": {},
   "source": [
    "Operator precedence can be overridden using parentheses. Expressions in parentheses are always performed first, before expressions that are not parenthesized. Thus, the following happens:"
   ]
  },
  {
   "cell_type": "code",
   "execution_count": 26,
   "metadata": {},
   "outputs": [
    {
     "data": {
      "text/plain": [
       "60"
      ]
     },
     "execution_count": 26,
     "metadata": {},
     "output_type": "execute_result"
    }
   ],
   "source": [
    "20 + 4 * 10"
   ]
  },
  {
   "cell_type": "code",
   "execution_count": 27,
   "metadata": {},
   "outputs": [
    {
     "data": {
      "text/plain": [
       "240"
      ]
     },
     "execution_count": 27,
     "metadata": {},
     "output_type": "execute_result"
    }
   ],
   "source": [
    "(20 + 4) * 10"
   ]
  },
  {
   "cell_type": "code",
   "execution_count": null,
   "metadata": {},
   "outputs": [],
   "source": []
  }
 ],
 "metadata": {
  "kernelspec": {
   "display_name": "Python 3",
   "language": "python",
   "name": "python3"
  },
  "language_info": {
   "codemirror_mode": {
    "name": "ipython",
    "version": 3
   },
   "file_extension": ".py",
   "mimetype": "text/x-python",
   "name": "python",
   "nbconvert_exporter": "python",
   "pygments_lexer": "ipython3",
   "version": "3.7.6"
  }
 },
 "nbformat": 4,
 "nbformat_minor": 2
}
