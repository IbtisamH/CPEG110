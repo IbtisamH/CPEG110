{
 "cells": [
  {
   "cell_type": "markdown",
   "metadata": {},
   "source": [
    "# Python Loops\n",
    "In Python, we have two loops\n",
    "1. while loop\n",
    "1. for loop\n",
    "\n",
    "## Python \"while\" Loops (Indefinite Iteration)\n",
    "\n",
    "**Iteration** means executing the same block of code over and over, potentially many times. A programming structure that implements iteration is called a loop.\n",
    "\n",
    "In programming, there are two types of iteration, indefinite and definite:\n",
    "\n",
    "- With **indefinite** iteration, the number of times the loop is executed isn’t specified explicitly in advance. Rather, the designated block is executed repeatedly as long as some condition is met.\n",
    "\n",
    "- With **definite** iteration, the number of times the designated block will be executed is specified explicitly at the time the loop starts.\n",
    "\n",
    "**First we will learn about:**\n",
    "- Learn about the while loop, the Python control structure used for indefinite iteration\n",
    "- See how to break out of a loop or loop iteration prematurely\n",
    "- Explore infinite loops\n",
    "\n",
    "### The while Loop\n",
    "Let’s see how Python’s while statement is used to construct loops. We’ll start simple and embellish as we go.\n",
    "\n",
    "The format of a rudimentary while loop is shown below:"
   ]
  },
  {
   "cell_type": "raw",
   "metadata": {},
   "source": [
    "while <expr>:\n",
    "\n",
    "    <statement(s)>"
   ]
  },
  {
   "cell_type": "markdown",
   "metadata": {},
   "source": [
    "`statement(s)` represents the block to be repeatedly executed, often referred to as the body of the loop. This is denoted with indentation, just as in an if statement.\n",
    "\n",
    "The controlling expression, `expr`, typically involves one or more variables that are initialized prior to starting the loop and then modified somewhere in the loop body.\n",
    "\n",
    "When a while loop is encountered, `expr` is first evaluated in Boolean context. If it is true, the loop body is executed. Then `expr` is checked again, and if still true, the body is executed again. This continues until `expr` becomes false, at which point program execution proceeds to the first statement beyond the loop body.\n",
    "\n",
    "Consider this loop:"
   ]
  },
  {
   "cell_type": "code",
   "execution_count": 2,
   "metadata": {},
   "outputs": [
    {
     "name": "stdout",
     "output_type": "stream",
     "text": [
      "4\n",
      "3\n",
      "2\n",
      "1\n",
      "0\n"
     ]
    }
   ],
   "source": [
    "n = 5\n",
    "while n > 0:\n",
    "    n -= 1\n",
    "    print(n)"
   ]
  },
  {
   "cell_type": "markdown",
   "metadata": {},
   "source": [
    "Here’s what’s happening in this example:\n",
    "\n",
    "- n is initially 5. The expression in the while statement header on line 2 is n > 0, which is true, so the loop body executes. Inside the loop body on line 3, n is decremented by 1 to 4, and then printed.\n",
    "\n",
    "- When the body of the loop has finished, program execution returns to the top of the loop at line 2, and the expression is evaluated again. It is still true, so the body executes again, and 3 is printed.\n",
    "\n",
    "- This continues until n becomes 0. At that point, when the expression is tested, it is false, and the loop terminates. Execution would resume at the first statement following the loop body, but there isn’t one in this case.\n",
    "\n",
    "Note that the controlling expression of the while loop is tested first, before anything else happens. If it’s false to start with, the loop body will never be executed at all:"
   ]
  },
  {
   "cell_type": "code",
   "execution_count": 5,
   "metadata": {},
   "outputs": [],
   "source": [
    "n = 0\n",
    "while n > 0:\n",
    "    n -= 1\n",
    "    print(n)\n"
   ]
  },
  {
   "cell_type": "markdown",
   "metadata": {},
   "source": [
    "In the example above, when the loop is encountered, n is 0. The controlling expression n > 0 is already false, so the loop body never executes.\n",
    "\n",
    "Here’s another while loop involving a list, rather than a numeric comparison:"
   ]
  },
  {
   "cell_type": "code",
   "execution_count": 3,
   "metadata": {},
   "outputs": [
    {
     "name": "stdout",
     "output_type": "stream",
     "text": [
      "baz\n",
      "bar\n",
      "foo\n"
     ]
    }
   ],
   "source": [
    "a = ['foo', 'bar', 'baz']\n",
    "while a:\n",
    "    print(a.pop())"
   ]
  },
  {
   "cell_type": "code",
   "execution_count": 24,
   "metadata": {},
   "outputs": [
    {
     "name": "stdout",
     "output_type": "stream",
     "text": [
      "3 baz\n",
      "2 bar\n",
      "1 foo\n"
     ]
    }
   ],
   "source": [
    "a = ['foo', 'bar', 'baz']\n",
    "while len(a) > 0:\n",
    "    print(len(a),a.pop())"
   ]
  },
  {
   "cell_type": "code",
   "execution_count": 32,
   "metadata": {},
   "outputs": [
    {
     "name": "stdout",
     "output_type": "stream",
     "text": [
      "0\n",
      "1\n",
      "2\n",
      "3\n",
      "4\n",
      "5\n",
      "6\n",
      "7\n",
      "8\n",
      "9\n",
      "10\n",
      "End of loop\n"
     ]
    }
   ],
   "source": [
    "n = 0\n",
    "while n <= 10:\n",
    "    print(n)\n",
    "    n += 1\n",
    "print('End of loop')   "
   ]
  },
  {
   "cell_type": "markdown",
   "metadata": {},
   "source": [
    "When a list is evaluated in Boolean context, it is truthy if it has elements in it and falsy if it is empty. In this example, a is true as long as it has elements in it. Once all the items have been removed with the .pop() method and the list is empty, a is false, and the loop terminates.\n",
    "\n",
    "### The Python break and continue Statements\n",
    "\n",
    "In each example you have seen so far, the entire body of the while loop is executed on each iteration. Python provides two keywords that terminate a loop iteration prematurely:\n",
    "\n",
    "The Python `break` statement immediately terminates a loop entirely. Program execution proceeds to the first statement following the loop body.\n",
    "\n",
    "The Python `continue` statement immediately terminates the current loop iteration. Execution jumps to the top of the loop, and the controlling expression is re-evaluated to determine whether the loop will execute again or terminate."
   ]
  },
  {
   "cell_type": "code",
   "execution_count": 5,
   "metadata": {},
   "outputs": [
    {
     "name": "stdout",
     "output_type": "stream",
     "text": [
      "4\n",
      "3\n",
      "2 Condition is true, loop will end now\n",
      "Loop ended.\n"
     ]
    }
   ],
   "source": [
    "n = 5\n",
    "while n > 0:\n",
    "    n -= 1\n",
    "    if n == 2:\n",
    "        print(n,'Condition is true, loop will end now')\n",
    "        break\n",
    "    print(n)\n",
    "print('Loop ended.')"
   ]
  },
  {
   "cell_type": "markdown",
   "metadata": {},
   "source": [
    "When n becomes 2, the break statement is executed. The loop is terminated completely, and program execution jumps to the print() statement on line 7.\n",
    "\n",
    "The next script, is identical except for a continue statement in place of the break:"
   ]
  },
  {
   "cell_type": "code",
   "execution_count": 6,
   "metadata": {},
   "outputs": [
    {
     "name": "stdout",
     "output_type": "stream",
     "text": [
      "4\n",
      "3\n",
      "1\n",
      "0\n",
      "Loop ended.\n"
     ]
    }
   ],
   "source": [
    "n = 5\n",
    "while n > 0:\n",
    "    n -= 1\n",
    "    if n == 2:\n",
    "        continue\n",
    "    print(n)\n",
    "print('Loop ended.')"
   ]
  },
  {
   "cell_type": "markdown",
   "metadata": {},
   "source": [
    "This time, when n is 2, the continue statement causes termination of that iteration. Thus, 2 isn’t printed. Execution returns to the top of the loop, the condition is re-evaluated, and it is still true. The loop resumes, terminating when n becomes 0, as previously.\n",
    "\n",
    "### Infinite Loops\n",
    "Suppose you write a while loop that theoretically never ends. Sounds weird, right?\n",
    "\n",
    "Consider this example:"
   ]
  },
  {
   "cell_type": "code",
   "execution_count": 4,
   "metadata": {},
   "outputs": [
    {
     "name": "stdout",
     "output_type": "stream",
     "text": [
      "foo\n"
     ]
    }
   ],
   "source": [
    "x = True\n",
    "while x:\n",
    "    print('foo')\n",
    "    x = False"
   ]
  },
  {
   "cell_type": "markdown",
   "metadata": {},
   "source": [
    "This code was terminated manually, which generates an interrupt from the keyboard. Otherwise, it would have gone on unendingly. Many foo output lines have been removed and replaced by the vertical ellipsis in the output shown.\n",
    "\n",
    "Clearly, True will never be false, or we’re all in very big trouble. Thus, while True: initiates an infinite loop that will theoretically run forever.\n",
    "\n",
    "Maybe that doesn’t sound like something you’d want to do, but this pattern is actually quite common. For example, you might write code for a service that starts up and runs forever accepting service requests. “Forever” in this context means until you shut it down, or until the heat death of the universe, whichever comes first.\n",
    "\n",
    "More prosaically, remember that loops can be broken out of with the break statement. It may be more straightforward to terminate a loop based on conditions recognized within the loop body, rather than on a condition evaluated at the top.\n",
    "\n",
    "Here’s another variant of the loop shown above that successively removes items from a list using .pop() until it is empty:"
   ]
  },
  {
   "cell_type": "code",
   "execution_count": 3,
   "metadata": {},
   "outputs": [
    {
     "name": "stdout",
     "output_type": "stream",
     "text": [
      "Please enter q or Q to quit and any other char to continue:w\n",
      "w\n",
      "Please enter q or Q to quit and any other char to continue:q\n"
     ]
    }
   ],
   "source": [
    "while True:\n",
    "    x = input('Please enter q or Q to quit and any other char to continue:')\n",
    "    if x == 'q' or x == 'Q':\n",
    "        break\n",
    "    print(x)"
   ]
  },
  {
   "cell_type": "code",
   "execution_count": 11,
   "metadata": {},
   "outputs": [
    {
     "name": "stdout",
     "output_type": "stream",
     "text": [
      "baz\n",
      "bar\n",
      "foo\n"
     ]
    }
   ],
   "source": [
    "a = ['foo', 'bar', 'baz']\n",
    "while True:\n",
    "    if not a:\n",
    "        break\n",
    "    print(a.pop())"
   ]
  },
  {
   "cell_type": "markdown",
   "metadata": {},
   "source": [
    "When a becomes empty, not a becomes true, and the break statement exits the loop.\n",
    "\n",
    "You can also specify multiple break statements in a loop:"
   ]
  },
  {
   "cell_type": "raw",
   "metadata": {},
   "source": [
    "while True:\n",
    "    if <expr1>:  # One condition for loop termination\n",
    "        break\n",
    "    ...\n",
    "    if <expr2>:  # Another termination condition\n",
    "        break\n",
    "    ...\n",
    "    if <expr3>:  # Yet another\n",
    "        break"
   ]
  },
  {
   "cell_type": "markdown",
   "metadata": {},
   "source": [
    "In cases like this, where there are multiple reasons to end the loop, it is often cleaner to break out from several different locations, rather than try to specify all the termination conditions in the loop header.\n",
    "\n",
    "Infinite loops can be very useful. Just remember that you must ensure the loop gets broken out of at some point, so it doesn’t truly become infinite.\n",
    "\n",
    "### Nested while Loops\n",
    "In general, Python control structures can be nested within one another. For example, if/elif/else conditional statements can be nested:"
   ]
  },
  {
   "cell_type": "code",
   "execution_count": 3,
   "metadata": {},
   "outputs": [
    {
     "name": "stdout",
     "output_type": "stream",
     "text": [
      "mother\n"
     ]
    }
   ],
   "source": [
    "age = 19\n",
    "gender = 'F'\n",
    "if age < 18:\n",
    "    if gender == 'M':\n",
    "        print('son')\n",
    "    else:\n",
    "        print('daughter')\n",
    "elif age >= 18 and age < 65:\n",
    "    if gender == 'M':\n",
    "        print('father')\n",
    "    else:\n",
    "        print('mother')\n",
    "else:\n",
    "    if gender == 'M':\n",
    "        print('grandfather')\n",
    "    else:\n",
    "        print('grandmother')"
   ]
  },
  {
   "cell_type": "markdown",
   "metadata": {},
   "source": [
    "Similarly, a while loop can be contained within another while loop, as shown here:"
   ]
  },
  {
   "cell_type": "code",
   "execution_count": 2,
   "metadata": {},
   "outputs": [
    {
     "name": "stdout",
     "output_type": "stream",
     "text": [
      "bar\n",
      "> 5\n",
      "> 4\n",
      "> 3\n",
      "> 2\n",
      "> 1\n",
      "foo\n",
      "> 5\n",
      "> 4\n",
      "> 3\n",
      "> 2\n",
      "> 1\n"
     ]
    }
   ],
   "source": [
    "a = ['foo', 'bar']\n",
    "while len(a):\n",
    "    print(a.pop())\n",
    "    b = [1,2,3,4,5]\n",
    "    while len(b):\n",
    "        print('>', b.pop())\n"
   ]
  },
  {
   "cell_type": "code",
   "execution_count": 12,
   "metadata": {},
   "outputs": [
    {
     "name": "stdout",
     "output_type": "stream",
     "text": [
      "1\n",
      "> qux\n",
      "> baz\n",
      "> bar\n",
      "> foo\n",
      "2\n",
      "> qux\n",
      "> baz\n",
      "> bar\n",
      "> foo\n",
      "3\n",
      "> qux\n",
      "> baz\n",
      "> bar\n",
      "> foo\n",
      "4\n",
      "> qux\n",
      "> baz\n",
      "> bar\n",
      "> foo\n",
      "5\n",
      "> qux\n",
      "> baz\n",
      "> bar\n",
      "> foo\n"
     ]
    }
   ],
   "source": [
    "n = 0\n",
    "while n < 5:\n",
    "    n += 1\n",
    "    print(n)\n",
    "    a = ['foo', 'bar', 'baz', 'qux']\n",
    "    while a:\n",
    "        print('>', a.pop())"
   ]
  },
  {
   "cell_type": "code",
   "execution_count": 5,
   "metadata": {},
   "outputs": [
    {
     "name": "stdout",
     "output_type": "stream",
     "text": [
      "1\n",
      "> qux\n",
      ">> iv\n",
      ">>> d\n",
      ">>> c\n",
      ">>> b\n",
      ">>> a\n",
      ">> iii\n",
      ">>> d\n",
      ">>> c\n",
      ">>> b\n",
      ">>> a\n",
      ">> ii\n",
      ">>> d\n",
      ">>> c\n",
      ">>> b\n",
      ">>> a\n",
      ">> i\n",
      ">>> d\n",
      ">>> c\n",
      ">>> b\n",
      ">>> a\n",
      "> baz\n",
      ">> iv\n",
      ">>> d\n",
      ">>> c\n",
      ">>> b\n",
      ">>> a\n",
      ">> iii\n",
      ">>> d\n",
      ">>> c\n",
      ">>> b\n",
      ">>> a\n",
      ">> ii\n",
      ">>> d\n",
      ">>> c\n",
      ">>> b\n",
      ">>> a\n",
      ">> i\n",
      ">>> d\n",
      ">>> c\n",
      ">>> b\n",
      ">>> a\n",
      "> bar\n",
      ">> iv\n",
      ">>> d\n",
      ">>> c\n",
      ">>> b\n",
      ">>> a\n",
      ">> iii\n",
      ">>> d\n",
      ">>> c\n",
      ">>> b\n",
      ">>> a\n",
      ">> ii\n",
      ">>> d\n",
      ">>> c\n",
      ">>> b\n",
      ">>> a\n",
      ">> i\n",
      ">>> d\n",
      ">>> c\n",
      ">>> b\n",
      ">>> a\n",
      "> foo\n",
      ">> iv\n",
      ">>> d\n",
      ">>> c\n",
      ">>> b\n",
      ">>> a\n",
      ">> iii\n",
      ">>> d\n",
      ">>> c\n",
      ">>> b\n",
      ">>> a\n",
      ">> ii\n",
      ">>> d\n",
      ">>> c\n",
      ">>> b\n",
      ">>> a\n",
      ">> i\n",
      ">>> d\n",
      ">>> c\n",
      ">>> b\n",
      ">>> a\n",
      "2\n",
      "> qux\n",
      ">> iv\n",
      ">>> d\n",
      ">>> c\n",
      ">>> b\n",
      ">>> a\n",
      ">> iii\n",
      ">>> d\n",
      ">>> c\n",
      ">>> b\n",
      ">>> a\n",
      ">> ii\n",
      ">>> d\n",
      ">>> c\n",
      ">>> b\n",
      ">>> a\n",
      ">> i\n",
      ">>> d\n",
      ">>> c\n",
      ">>> b\n",
      ">>> a\n",
      "> baz\n",
      ">> iv\n",
      ">>> d\n",
      ">>> c\n",
      ">>> b\n",
      ">>> a\n",
      ">> iii\n",
      ">>> d\n",
      ">>> c\n",
      ">>> b\n",
      ">>> a\n",
      ">> ii\n",
      ">>> d\n",
      ">>> c\n",
      ">>> b\n",
      ">>> a\n",
      ">> i\n",
      ">>> d\n",
      ">>> c\n",
      ">>> b\n",
      ">>> a\n",
      "> bar\n",
      ">> iv\n",
      ">>> d\n",
      ">>> c\n",
      ">>> b\n",
      ">>> a\n",
      ">> iii\n",
      ">>> d\n",
      ">>> c\n",
      ">>> b\n",
      ">>> a\n",
      ">> ii\n",
      ">>> d\n",
      ">>> c\n",
      ">>> b\n",
      ">>> a\n",
      ">> i\n",
      ">>> d\n",
      ">>> c\n",
      ">>> b\n",
      ">>> a\n",
      "> foo\n",
      ">> iv\n",
      ">>> d\n",
      ">>> c\n",
      ">>> b\n",
      ">>> a\n",
      ">> iii\n",
      ">>> d\n",
      ">>> c\n",
      ">>> b\n",
      ">>> a\n",
      ">> ii\n",
      ">>> d\n",
      ">>> c\n",
      ">>> b\n",
      ">>> a\n",
      ">> i\n",
      ">>> d\n",
      ">>> c\n",
      ">>> b\n",
      ">>> a\n",
      "3\n",
      "> qux\n",
      ">> iv\n",
      ">>> d\n",
      ">>> c\n",
      ">>> b\n",
      ">>> a\n",
      ">> iii\n",
      ">>> d\n",
      ">>> c\n",
      ">>> b\n",
      ">>> a\n",
      ">> ii\n",
      ">>> d\n",
      ">>> c\n",
      ">>> b\n",
      ">>> a\n",
      ">> i\n",
      ">>> d\n",
      ">>> c\n",
      ">>> b\n",
      ">>> a\n",
      "> baz\n",
      ">> iv\n",
      ">>> d\n",
      ">>> c\n",
      ">>> b\n",
      ">>> a\n",
      ">> iii\n",
      ">>> d\n",
      ">>> c\n",
      ">>> b\n",
      ">>> a\n",
      ">> ii\n",
      ">>> d\n",
      ">>> c\n",
      ">>> b\n",
      ">>> a\n",
      ">> i\n",
      ">>> d\n",
      ">>> c\n",
      ">>> b\n",
      ">>> a\n",
      "> bar\n",
      ">> iv\n",
      ">>> d\n",
      ">>> c\n",
      ">>> b\n",
      ">>> a\n",
      ">> iii\n",
      ">>> d\n",
      ">>> c\n",
      ">>> b\n",
      ">>> a\n",
      ">> ii\n",
      ">>> d\n",
      ">>> c\n",
      ">>> b\n",
      ">>> a\n",
      ">> i\n",
      ">>> d\n",
      ">>> c\n",
      ">>> b\n",
      ">>> a\n",
      "> foo\n",
      ">> iv\n",
      ">>> d\n",
      ">>> c\n",
      ">>> b\n",
      ">>> a\n",
      ">> iii\n",
      ">>> d\n",
      ">>> c\n",
      ">>> b\n",
      ">>> a\n",
      ">> ii\n",
      ">>> d\n",
      ">>> c\n",
      ">>> b\n",
      ">>> a\n",
      ">> i\n",
      ">>> d\n",
      ">>> c\n",
      ">>> b\n",
      ">>> a\n",
      "4\n",
      "> qux\n",
      ">> iv\n",
      ">>> d\n",
      ">>> c\n",
      ">>> b\n",
      ">>> a\n",
      ">> iii\n",
      ">>> d\n",
      ">>> c\n",
      ">>> b\n",
      ">>> a\n",
      ">> ii\n",
      ">>> d\n",
      ">>> c\n",
      ">>> b\n",
      ">>> a\n",
      ">> i\n",
      ">>> d\n",
      ">>> c\n",
      ">>> b\n",
      ">>> a\n",
      "> baz\n",
      ">> iv\n",
      ">>> d\n",
      ">>> c\n",
      ">>> b\n",
      ">>> a\n",
      ">> iii\n",
      ">>> d\n",
      ">>> c\n",
      ">>> b\n",
      ">>> a\n",
      ">> ii\n",
      ">>> d\n",
      ">>> c\n",
      ">>> b\n",
      ">>> a\n",
      ">> i\n",
      ">>> d\n",
      ">>> c\n",
      ">>> b\n",
      ">>> a\n",
      "> bar\n",
      ">> iv\n",
      ">>> d\n",
      ">>> c\n",
      ">>> b\n",
      ">>> a\n",
      ">> iii\n",
      ">>> d\n",
      ">>> c\n",
      ">>> b\n",
      ">>> a\n",
      ">> ii\n",
      ">>> d\n",
      ">>> c\n",
      ">>> b\n",
      ">>> a\n",
      ">> i\n",
      ">>> d\n",
      ">>> c\n",
      ">>> b\n",
      ">>> a\n",
      "> foo\n",
      ">> iv\n",
      ">>> d\n",
      ">>> c\n",
      ">>> b\n",
      ">>> a\n",
      ">> iii\n",
      ">>> d\n",
      ">>> c\n",
      ">>> b\n",
      ">>> a\n",
      ">> ii\n",
      ">>> d\n",
      ">>> c\n",
      ">>> b\n",
      ">>> a\n",
      ">> i\n",
      ">>> d\n",
      ">>> c\n",
      ">>> b\n",
      ">>> a\n",
      "5\n",
      "> qux\n",
      ">> iv\n",
      ">>> d\n",
      ">>> c\n",
      ">>> b\n",
      ">>> a\n",
      ">> iii\n",
      ">>> d\n",
      ">>> c\n",
      ">>> b\n",
      ">>> a\n",
      ">> ii\n",
      ">>> d\n",
      ">>> c\n",
      ">>> b\n",
      ">>> a\n",
      ">> i\n",
      ">>> d\n",
      ">>> c\n",
      ">>> b\n",
      ">>> a\n",
      "> baz\n",
      ">> iv\n",
      ">>> d\n",
      ">>> c\n",
      ">>> b\n",
      ">>> a\n",
      ">> iii\n",
      ">>> d\n",
      ">>> c\n",
      ">>> b\n",
      ">>> a\n",
      ">> ii\n",
      ">>> d\n",
      ">>> c\n",
      ">>> b\n",
      ">>> a\n",
      ">> i\n",
      ">>> d\n",
      ">>> c\n",
      ">>> b\n",
      ">>> a\n",
      "> bar\n",
      ">> iv\n",
      ">>> d\n",
      ">>> c\n",
      ">>> b\n",
      ">>> a\n",
      ">> iii\n",
      ">>> d\n",
      ">>> c\n",
      ">>> b\n",
      ">>> a\n",
      ">> ii\n",
      ">>> d\n",
      ">>> c\n",
      ">>> b\n",
      ">>> a\n",
      ">> i\n",
      ">>> d\n",
      ">>> c\n",
      ">>> b\n",
      ">>> a\n",
      "> foo\n",
      ">> iv\n",
      ">>> d\n",
      ">>> c\n",
      ">>> b\n",
      ">>> a\n",
      ">> iii\n",
      ">>> d\n",
      ">>> c\n",
      ">>> b\n",
      ">>> a\n",
      ">> ii\n",
      ">>> d\n",
      ">>> c\n",
      ">>> b\n",
      ">>> a\n",
      ">> i\n",
      ">>> d\n",
      ">>> c\n",
      ">>> b\n",
      ">>> a\n"
     ]
    }
   ],
   "source": [
    "n = 0\n",
    "while n < 5:\n",
    "    n += 1\n",
    "    print(n)\n",
    "    a = ['foo', 'bar', 'baz', 'qux']\n",
    "    while a:\n",
    "        print('>', a.pop())\n",
    "        b = ['i', 'ii', 'iii', 'iv']\n",
    "        while b:\n",
    "            print('>>', b.pop())\n",
    "            c = ['a', 'b', 'c', 'd']\n",
    "            while c:\n",
    "                print('>>>', c.pop())\n",
    "            "
   ]
  },
  {
   "cell_type": "code",
   "execution_count": 5,
   "metadata": {},
   "outputs": [
    {
     "name": "stdout",
     "output_type": "stream",
     "text": [
      "1\n",
      "2\n",
      "3\n",
      "4\n",
      "5\n",
      "> qux\n",
      "> baz\n",
      "> bar\n",
      "> foo\n",
      "--> iv\n",
      "--> iii\n",
      "--> ii\n",
      "--> i\n"
     ]
    }
   ],
   "source": [
    "n = 0\n",
    "while n < 5:\n",
    "    n += 1\n",
    "    print(n)\n",
    "    \n",
    "    \n",
    "\n",
    "a = ['foo', 'bar', 'baz', 'qux']\n",
    "while a:\n",
    "    print('>', a.pop())\n",
    "    \n",
    "    \n",
    "\n",
    "b = ['i', 'ii', 'iii', 'iv']\n",
    "while b:\n",
    "    print('-->', b.pop())"
   ]
  },
  {
   "cell_type": "code",
   "execution_count": null,
   "metadata": {},
   "outputs": [],
   "source": [
    "x = 5\n",
    "y= 10\n",
    "print(x)\n",
    "print(y)"
   ]
  },
  {
   "cell_type": "markdown",
   "metadata": {},
   "source": [
    "A break or continue statement found within nested loops applies to the nearest enclosing loop:"
   ]
  },
  {
   "cell_type": "raw",
   "metadata": {},
   "source": [
    "while <expr1>:\n",
    "    statement\n",
    "    statement\n",
    "\n",
    "    while <expr2>:\n",
    "        statement\n",
    "        statement\n",
    "        break  # Applies to while <expr2>: loop\n",
    "\n",
    "    break  # Applies to while <expr1>: loop"
   ]
  },
  {
   "cell_type": "markdown",
   "metadata": {},
   "source": [
    "Additionally, while loops can be nested inside if/elif/else statements, and vice versa:"
   ]
  },
  {
   "cell_type": "raw",
   "metadata": {},
   "source": [
    "if <expr>:\n",
    "    statement\n",
    "    while <expr>:\n",
    "        statement\n",
    "        statement\n",
    "else:\n",
    "    while <expr>:\n",
    "        statement\n",
    "        statement\n",
    "    statement"
   ]
  },
  {
   "cell_type": "raw",
   "metadata": {},
   "source": [
    "while <expr>:\n",
    "    if <expr>:\n",
    "        statement\n",
    "    elif <expr>:\n",
    "        statement\n",
    "    else:\n",
    "        statement\n",
    "\n",
    "    if <expr>:\n",
    "        statement"
   ]
  },
  {
   "cell_type": "code",
   "execution_count": 6,
   "metadata": {},
   "outputs": [
    {
     "name": "stdout",
     "output_type": "stream",
     "text": [
      "Something\n",
      "Something\n"
     ]
    }
   ],
   "source": [
    "x = ['a','b']\n",
    "a = 'M'\n",
    "while x:\n",
    "    if a=='M':\n",
    "        print('Something')\n",
    "    else:\n",
    "        print('Something Else')\n",
    "    x.pop()"
   ]
  },
  {
   "cell_type": "markdown",
   "metadata": {},
   "source": [
    "In fact, all the Python control structures can be intermingled with one another to whatever extent you need. That is as it should be.\n",
    "\n",
    "# Python \"for\" Loops (Definite Iteration)\n",
    "\n",
    "Here’s what you’ll cover:\n",
    "\n",
    "- You’ll start with a comparison of some different paradigms used by programming languages to implement definite iteration.\n",
    "\n",
    "- Then you will learn about iterables and iterators, two concepts that form the basis of definite iteration in Python.\n",
    "\n",
    "- Finally, you’ll tie it all together and learn about Python’s for loops.\n",
    "\n",
    "Python provides Collection-Based or Iterator-Based Loop, rather than specifying numeric values or conditions:\n",
    "Python’s for loop looks like this:"
   ]
  },
  {
   "cell_type": "raw",
   "metadata": {},
   "source": [
    "for <var> in <iterable>:\n",
    "    <statement(s)>"
   ]
  },
  {
   "cell_type": "markdown",
   "metadata": {},
   "source": [
    "`iterable` is a collection of objects—for example, a list or tuple. The `statement(s)` in the loop body are denoted by indentation, as with all Python control structures, and are executed once for each item in `iterable`. The loop variable `var` takes on the value of the next element in `iterable` each time through the loop.\n",
    "\n",
    "Here is a representative example:"
   ]
  },
  {
   "cell_type": "code",
   "execution_count": 7,
   "metadata": {},
   "outputs": [
    {
     "name": "stdout",
     "output_type": "stream",
     "text": [
      "foo\n",
      "bar\n",
      "baz\n"
     ]
    }
   ],
   "source": [
    "a = ['foo', 'bar', 'baz']\n",
    "for var in a:\n",
    "    print(var)"
   ]
  },
  {
   "cell_type": "markdown",
   "metadata": {},
   "source": [
    "In this example, `iterable` is the list a, and `var` is the variable i. Each time through the loop, i takes on a successive item in a, so print() displays the values 'foo', 'bar', and 'baz', respectively. A for loop like this is the Pythonic way to process the items in an iterable.\n",
    "\n",
    "But what exactly is an iterable? Before examining for loops further, it will be beneficial to delve more deeply into what iterables are in Python.\n",
    "\n",
    "**Iterables**\n",
    "\n",
    "In Python, iterable means an object can be used in iteration. \n",
    "\n",
    "If an object is iterable, it can be passed to the built-in Python function iter(), which returns something called an iterator. Yes, the terminology gets a bit repetitive. Hang in there. It all works out in the end.\n",
    "\n",
    "Each of the objects in the following example is an iterable and returns some type of iterator when passed to iter():"
   ]
  },
  {
   "cell_type": "code",
   "execution_count": null,
   "metadata": {},
   "outputs": [],
   "source": [
    "iter('foobar')                             # String\n",
    "\n",
    "\n",
    "iter(['foo', 'bar', 'baz'])                # List\n",
    "\n",
    "\n",
    "iter(('foo', 'bar', 'baz'))                # Tuple\n",
    "\n",
    "\n",
    "iter({'foo', 'bar', 'baz'})                # Set\n",
    "\n",
    "\n",
    "iter({'foo': 1, 'bar': 2, 'baz': 3})       # Dict\n"
   ]
  },
  {
   "cell_type": "markdown",
   "metadata": {},
   "source": [
    "These object types, on the other hand, aren’t iterable:"
   ]
  },
  {
   "cell_type": "code",
   "execution_count": 14,
   "metadata": {},
   "outputs": [
    {
     "ename": "TypeError",
     "evalue": "'int' object is not iterable",
     "output_type": "error",
     "traceback": [
      "\u001b[1;31m---------------------------------------------------------------------------\u001b[0m",
      "\u001b[1;31mTypeError\u001b[0m                                 Traceback (most recent call last)",
      "\u001b[1;32m<ipython-input-14-33e3106bd391>\u001b[0m in \u001b[0;36m<module>\u001b[1;34m\u001b[0m\n\u001b[1;32m----> 1\u001b[1;33m \u001b[0miter\u001b[0m\u001b[1;33m(\u001b[0m\u001b[1;36m42\u001b[0m\u001b[1;33m)\u001b[0m                                   \u001b[1;31m# Integer\u001b[0m\u001b[1;33m\u001b[0m\u001b[1;33m\u001b[0m\u001b[0m\n\u001b[0m\u001b[0;32m      2\u001b[0m \u001b[1;33m\u001b[0m\u001b[0m\n\u001b[0;32m      3\u001b[0m \u001b[0miter\u001b[0m\u001b[1;33m(\u001b[0m\u001b[1;36m3.1\u001b[0m\u001b[1;33m)\u001b[0m                                  \u001b[1;31m# Float\u001b[0m\u001b[1;33m\u001b[0m\u001b[1;33m\u001b[0m\u001b[0m\n\u001b[0;32m      4\u001b[0m \u001b[1;33m\u001b[0m\u001b[0m\n\u001b[0;32m      5\u001b[0m \u001b[0miter\u001b[0m\u001b[1;33m(\u001b[0m\u001b[0mlen\u001b[0m\u001b[1;33m)\u001b[0m\u001b[1;33m\u001b[0m\u001b[1;33m\u001b[0m\u001b[0m\n",
      "\u001b[1;31mTypeError\u001b[0m: 'int' object is not iterable"
     ]
    }
   ],
   "source": [
    "iter(42)                                   # Integer\n",
    "\n",
    "iter(3.1)                                  # Float\n",
    "\n",
    "iter(len)    "
   ]
  },
  {
   "cell_type": "markdown",
   "metadata": {},
   "source": [
    "All the data types you have encountered so far that are collection or container types are iterable. These include the string, list, tuple, dict, set, and frozenset types.\n",
    "\n",
    "## The range() Function\n",
    "The range() function generates a numerical iterator of values. If you wanted to iterate through the values from 0 to 4, you could simply do this using range() function:\n",
    "\n",
    "range(`end`) returns an iterable that yields integers starting with 0, up to but not including `end`:"
   ]
  },
  {
   "cell_type": "code",
   "execution_count": 10,
   "metadata": {},
   "outputs": [
    {
     "data": {
      "text/plain": [
       "range(0, 5)"
      ]
     },
     "execution_count": 10,
     "metadata": {},
     "output_type": "execute_result"
    }
   ],
   "source": [
    "x = range(5)\n",
    "x"
   ]
  },
  {
   "cell_type": "markdown",
   "metadata": {},
   "source": [
    "Note that range() returns an object of class range, not a list or tuple of the values. Because a range object is an iterable, you can obtain the values by iterating over them with a for loop:"
   ]
  },
  {
   "cell_type": "code",
   "execution_count": 11,
   "metadata": {},
   "outputs": [
    {
     "name": "stdout",
     "output_type": "stream",
     "text": [
      "0\n",
      "1\n",
      "2\n",
      "3\n",
      "4\n"
     ]
    }
   ],
   "source": [
    "for n in x:\n",
    "    print(n)"
   ]
  },
  {
   "cell_type": "markdown",
   "metadata": {},
   "source": [
    "range(`begin`, `end`, `stride`) returns an iterable that yields integers starting with `begin`, up to but not including `end`. If specified, `stride` indicates an amount to skip between values."
   ]
  },
  {
   "cell_type": "code",
   "execution_count": 8,
   "metadata": {},
   "outputs": [
    {
     "name": "stdout",
     "output_type": "stream",
     "text": [
      "0\n",
      "2\n",
      "4\n",
      "6\n",
      "8\n",
      "10\n",
      "12\n",
      "14\n",
      "16\n",
      "18\n"
     ]
    }
   ],
   "source": [
    "for i in range(0,20,2):\n",
    "    print(i)"
   ]
  },
  {
   "cell_type": "markdown",
   "metadata": {},
   "source": [
    "You can also put thses values in list or tuple"
   ]
  },
  {
   "cell_type": "code",
   "execution_count": 18,
   "metadata": {},
   "outputs": [
    {
     "data": {
      "text/plain": [
       "[5, 8, 11, 14, 17]"
      ]
     },
     "execution_count": 18,
     "metadata": {},
     "output_type": "execute_result"
    }
   ],
   "source": [
    "a = list(range(5, 20, 3))\n",
    "a"
   ]
  },
  {
   "cell_type": "code",
   "execution_count": 19,
   "metadata": {},
   "outputs": [
    {
     "data": {
      "text/plain": [
       "(5, 8, 11, 14, 17)"
      ]
     },
     "execution_count": 19,
     "metadata": {},
     "output_type": "execute_result"
    }
   ],
   "source": [
    "b = tuple(range(5, 20, 3))\n",
    "b"
   ]
  },
  {
   "cell_type": "code",
   "execution_count": 22,
   "metadata": {},
   "outputs": [
    {
     "name": "stdout",
     "output_type": "stream",
     "text": [
      "5\n",
      "8\n",
      "11\n",
      "14\n",
      "17\n"
     ]
    }
   ],
   "source": [
    "for var in list(range(5, 20, 3)):\n",
    "    print(var)"
   ]
  },
  {
   "cell_type": "markdown",
   "metadata": {},
   "source": [
    "### Altering for Loop Behavior\n",
    "You saw in the previous section how execution of a while loop can be interrupted with `break` and `continue` statements. These capabilities are available with the for loop as well.\n",
    "\n",
    "#### The break and continue Statements\n",
    "`break` and `continue` work the same way with for loops as with while loops. `break` terminates the loop completely and proceeds to the first statement following the loop:"
   ]
  },
  {
   "cell_type": "code",
   "execution_count": 9,
   "metadata": {},
   "outputs": [
    {
     "name": "stdout",
     "output_type": "stream",
     "text": [
      "foo\n"
     ]
    }
   ],
   "source": [
    "for var in ['foo', 'bar', 'baz', 'qux']:\n",
    "    if 'a' in var:\n",
    "        break\n",
    "    print(var)"
   ]
  },
  {
   "cell_type": "markdown",
   "metadata": {},
   "source": [
    "`continue` terminates the current iteration and proceeds to the next iteration:"
   ]
  },
  {
   "cell_type": "code",
   "execution_count": 26,
   "metadata": {},
   "outputs": [
    {
     "name": "stdout",
     "output_type": "stream",
     "text": [
      "foo\n",
      "qux\n"
     ]
    }
   ],
   "source": [
    "x = ['foo', 'bar', 'baz', 'qux']\n",
    "for var in x:\n",
    "    if 'b' in var:\n",
    "        continue\n",
    "    print(var)"
   ]
  },
  {
   "cell_type": "markdown",
   "metadata": {},
   "source": [
    "### `enumerate()`\n",
    "In case you need to also know the index:"
   ]
  },
  {
   "cell_type": "code",
   "execution_count": 15,
   "metadata": {},
   "outputs": [
    {
     "name": "stdout",
     "output_type": "stream",
     "text": [
      "0 foo\n",
      "1 bar\n",
      "2 baz\n",
      "3 qux\n"
     ]
    }
   ],
   "source": [
    "a = ['foo', 'bar', 'baz', 'qux'] # List initialization\n",
    "for idx, val in enumerate(a):\n",
    "    print(idx, val)"
   ]
  },
  {
   "cell_type": "code",
   "execution_count": 16,
   "metadata": {},
   "outputs": [
    {
     "data": {
      "text/plain": [
       "'bar'"
      ]
     },
     "execution_count": 16,
     "metadata": {},
     "output_type": "execute_result"
    }
   ],
   "source": [
    "a[2]"
   ]
  },
  {
   "cell_type": "code",
   "execution_count": null,
   "metadata": {},
   "outputs": [],
   "source": []
  }
 ],
 "metadata": {
  "kernelspec": {
   "display_name": "Python 3",
   "language": "python",
   "name": "python3"
  },
  "language_info": {
   "codemirror_mode": {
    "name": "ipython",
    "version": 3
   },
   "file_extension": ".py",
   "mimetype": "text/x-python",
   "name": "python",
   "nbconvert_exporter": "python",
   "pygments_lexer": "ipython3",
   "version": "3.7.6"
  }
 },
 "nbformat": 4,
 "nbformat_minor": 2
}
