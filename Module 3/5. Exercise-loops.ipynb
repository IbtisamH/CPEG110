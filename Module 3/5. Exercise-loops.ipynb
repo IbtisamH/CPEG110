{
 "cells": [
  {
   "cell_type": "markdown",
   "metadata": {},
   "source": [
    "# 1. loop"
   ]
  },
  {
   "cell_type": "code",
   "execution_count": null,
   "metadata": {},
   "outputs": [],
   "source": [
    "# problem 1\n",
    "# First solve this simple foor loop by replacing ____ with appropriate code \n",
    "words = ['PYTHON', 'JOHN', 'chEEse', 'hAm', 'DOE', '123']\n",
    "upper_case_words = []\n",
    "\n",
    "for ____ in words:\n",
    "    if ____.isupper():\n",
    "        ____.append(____)\n",
    "        \n",
    "# Solve the above exercise using while loop\n"
   ]
  },
  {
   "cell_type": "code",
   "execution_count": null,
   "metadata": {},
   "outputs": [],
   "source": [
    "# Problem 2\n",
    "# Create a list of strings based on a list of numbers using for loop\n",
    "# The rules:\n",
    "# If the number is a multiple of five and odd, the string should be 'five odd'\n",
    "# If the number is a multiple of five and even, the string should be 'five even'\n",
    "# If the number is odd, the string is 'odd'\n",
    "# If the number is even, the string is 'even'\n",
    "numbers = [1, 3, 4, 6, 81, 80, 100, 95]\n",
    "\n",
    "# Your implementation\n",
    "my_list = \n",
    "\n",
    "assert my_list == ['odd', 'odd', 'even', 'even', 'odd', 'five even', 'five even', 'five odd']\n",
    "\n",
    "# Solve the above problem using while loop"
   ]
  },
  {
   "cell_type": "code",
   "execution_count": null,
   "metadata": {},
   "outputs": [],
   "source": [
    "# problem 3\n",
    "# Write a while loop that adds all the numbers up to 100 (inclusive).\n",
    "# Your implementation here\n",
    "\n",
    "\n",
    "# Write a for loop that adds all the numbers up to 100 (inclusive).\n",
    "# Your implementation here"
   ]
  },
  {
   "cell_type": "code",
   "execution_count": null,
   "metadata": {},
   "outputs": [],
   "source": [
    "# problem 4\n",
    "# Using while loop, if statement and str() function; iterate through the list and if there is a 100, \n",
    "# print it with its index number. i.e.: \"There is a 100 at index no: 5\"\n",
    "lst = [10, 99, 100, 85, 45, 59, 65, 100, 76, 12, 35, 13, 100, 80, 95]\n",
    "\n",
    "\n",
    "# Using for loop, if statement and str() function; iterate through the list and if there is a 100, \n",
    "# print it with its index number. i.e.: \"There is a 100 at index no: 5\"\n",
    "# see enumerate()\n",
    "lst = [10, 99, 100, 85, 45, 59, 65, 100, 76, 12, 35, 13, 100, 80, 95]"
   ]
  },
  {
   "cell_type": "code",
   "execution_count": null,
   "metadata": {},
   "outputs": [],
   "source": [
    "# problem 5\n",
    "# write a for loop to print the table of a number input by user"
   ]
  },
  {
   "cell_type": "code",
   "execution_count": null,
   "metadata": {},
   "outputs": [],
   "source": [
    "# problem 6\n",
    "# Write a Python program to find those numbers which are divisible \n",
    "# by 7 and multiple of 5, between 1500 and 2700 (both included)."
   ]
  },
  {
   "cell_type": "code",
   "execution_count": null,
   "metadata": {},
   "outputs": [],
   "source": [
    "# problem 7\n",
    "# Write a Python program which iterates the integers from 1 to 50. For multiples of three print \"Fizz\" instead of the number and for the multiples of five print \"Buzz\". \n",
    "# For numbers which are multiples of both three and five print \"FizzBuzz\"."
   ]
  },
  {
   "cell_type": "code",
   "execution_count": null,
   "metadata": {},
   "outputs": [],
   "source": [
    "# problem 8\n",
    "# write a nested for loop to print the fallowing output\n",
    "# 1\n",
    "# 2 2\n",
    "# 3 3 3\n",
    "# 4 4 4 4"
   ]
  },
  {
   "cell_type": "code",
   "execution_count": null,
   "metadata": {},
   "outputs": [],
   "source": [
    "# problem 9\n",
    "# Print the * pattern using nested for loops\n",
    "# *\n",
    "# * *\n",
    "# * * *\n",
    "# * * * *\n",
    "# * * * * *\n",
    "# * * * *\n",
    "# * * *\n",
    "# * *\n",
    "# *"
   ]
  },
  {
   "cell_type": "code",
   "execution_count": null,
   "metadata": {},
   "outputs": [],
   "source": [
    "# problem 10\n",
    "# write a program to print each adjective for every fruit:\n",
    "\n",
    "adj = [\"yellow\", \"big\", \"tasty\"]\n",
    "fruits = [\"apple\", \"banana\", \"cherry\"]"
   ]
  }
 ],
 "metadata": {
  "kernelspec": {
   "display_name": "Python 3",
   "language": "python",
   "name": "python3"
  },
  "language_info": {
   "codemirror_mode": {
    "name": "ipython",
    "version": 3
   },
   "file_extension": ".py",
   "mimetype": "text/x-python",
   "name": "python",
   "nbconvert_exporter": "python",
   "pygments_lexer": "ipython3",
   "version": "3.7.6"
  }
 },
 "nbformat": 4,
 "nbformat_minor": 2
}
