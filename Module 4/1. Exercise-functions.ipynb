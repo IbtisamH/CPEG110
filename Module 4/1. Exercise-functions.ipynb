{
 "cells": [
  {
   "cell_type": "markdown",
   "metadata": {},
   "source": [
    "# Functions\n",
    "### Fill the missing pieces of the `count_even_numbers` function\n",
    "Fill `____` pieces of the `count_even_numbers` implemention in order to pass the assertions. You can assume that `numbers` argument is a list of integers.\n"
   ]
  },
  {
   "cell_type": "code",
   "execution_count": null,
   "metadata": {},
   "outputs": [],
   "source": [
    "____ count_even_numbers(numbers):\n",
    "    count = 0\n",
    "    for num in ____:\n",
    "        if ____ % 2 == ____:\n",
    "            count += ____\n",
    "    _____ _____"
   ]
  },
  {
   "cell_type": "code",
   "execution_count": null,
   "metadata": {},
   "outputs": [],
   "source": [
    "assert count_even_numbers([1, 2, 3, 4, 5, 6]) == 3\n",
    "assert count_even_numbers([1, 3, 5, 7]) == 0\n",
    "assert count_even_numbers([-2, 2, -10, 8]) == 4"
   ]
  },
  {
   "cell_type": "markdown",
   "metadata": {},
   "source": [
    "### Searching for wanted people\n",
    "Implement `find_wanted_people` function which takes a list of names (strings) as argument. The function should return a list of names which are present both in `WANTED_PEOPLE` and in the name list given as argument to the function."
   ]
  },
  {
   "cell_type": "code",
   "execution_count": null,
   "metadata": {},
   "outputs": [],
   "source": [
    "WANTED_PEOPLE = ['John Doe', 'Clint Eastwood', 'Chuck Norris']\n",
    "\n",
    "# Your implementation here\n"
   ]
  },
  {
   "cell_type": "code",
   "execution_count": null,
   "metadata": {},
   "outputs": [],
   "source": [
    "people_to_check1 = ['Donald Duck', 'Clint Eastwood', 'John Doe', 'Barack Obama']\n",
    "wanted1 = find_wanted_people(people_to_check1)\n",
    "assert len(wanted1) == 2\n",
    "assert 'John Doe' in wanted1\n",
    "assert 'Clint Eastwood'in wanted1\n",
    "\n",
    "people_to_check2 = ['Donald Duck', 'Mickey Mouse', 'Zorro', 'Superman', 'Robin Hood']\n",
    "wanted2 = find_wanted_people(people_to_check2)\n",
    "assert wanted2 == []"
   ]
  },
  {
   "cell_type": "markdown",
   "metadata": {},
   "source": [
    "### Counting average length of words in a sentence\n",
    "Create a function `average_length_of_words` which takes a string as an argument and returns the average length of the words in the string. You can assume that there is a single space between each word and that the input does not have punctuation. The result should be rounded to one decimal place (hint: see [`round`](https://docs.python.org/3/library/functions.html#round))."
   ]
  },
  {
   "cell_type": "code",
   "execution_count": null,
   "metadata": {},
   "outputs": [],
   "source": [
    "# Your implementation here\n"
   ]
  },
  {
   "cell_type": "code",
   "execution_count": null,
   "metadata": {},
   "outputs": [],
   "source": [
    "assert average_length_of_words('only four lett erwo rdss') == 4\n",
    "assert average_length_of_words('one two three') == 3.7\n",
    "assert average_length_of_words('one two three four') == 3.8\n",
    "assert average_length_of_words('') == 0"
   ]
  },
  {
   "cell_type": "markdown",
   "metadata": {},
   "source": [
    "### Misc Exercises"
   ]
  },
  {
   "cell_type": "code",
   "execution_count": null,
   "metadata": {},
   "outputs": [],
   "source": [
    "#problem 1\n",
    "# Write a Python function to find the Max of three numbers and return it."
   ]
  },
  {
   "cell_type": "code",
   "execution_count": null,
   "metadata": {},
   "outputs": [],
   "source": [
    "# problem 2\n",
    "# Write a Python function to sum all the numbers in a list."
   ]
  },
  {
   "cell_type": "code",
   "execution_count": null,
   "metadata": {},
   "outputs": [],
   "source": [
    "# problem 3\n",
    "# Write a Python function to calculate the factorial of a number (a non-negative integer). \n",
    "# The function accepts the number as an argument."
   ]
  },
  {
   "cell_type": "code",
   "execution_count": null,
   "metadata": {},
   "outputs": [],
   "source": [
    "# problem 4\n",
    "# Write a Python function that takes a number as a parameter and check the number is prime or not.\n",
    "# Note : A prime number (or a prime) is a natural number greater than 1 and that has no positive divisors \n",
    "# other than 1 and itself."
   ]
  },
  {
   "cell_type": "code",
   "execution_count": null,
   "metadata": {},
   "outputs": [],
   "source": [
    "# problem 5\n",
    "# Write a Python function to check whether a number is perfect or not. \n",
    "# According to Wikipedia : In number theory, a perfect number is a positive integer that is equal to the sum of \n",
    "# its proper positive divisors, that is, the sum of its positive divisors excluding the number \n",
    "#itself (also known as its aliquot sum). Equivalently, a perfect number is a number that is half the sum of \n",
    "#all of its positive divisors (including itself).\n",
    "# Example : The first perfect number is 6, because 1, 2, and 3 are its proper positive divisors, and 1 + 2 + 3 = 6. \n",
    "# Equivalently, the number 6 is equal to half the sum of all its positive divisors: ( 1 + 2 + 3 + 6 ) / 2 = 6. \n",
    "# The next perfect number is 28 = 1 + 2 + 4 + 7 + 14. This is followed by the perfect numbers 496 and 8128."
   ]
  },
  {
   "cell_type": "code",
   "execution_count": 4,
   "metadata": {},
   "outputs": [
    {
     "data": {
      "text/plain": [
       "'a'"
      ]
     },
     "execution_count": 4,
     "metadata": {},
     "output_type": "execute_result"
    }
   ],
   "source": [
    "st = 'a'\n",
    "st[-2:]"
   ]
  },
  {
   "cell_type": "code",
   "execution_count": null,
   "metadata": {},
   "outputs": [],
   "source": []
  }
 ],
 "metadata": {
  "kernelspec": {
   "display_name": "Python 3",
   "language": "python",
   "name": "python3"
  },
  "language_info": {
   "codemirror_mode": {
    "name": "ipython",
    "version": 3
   },
   "file_extension": ".py",
   "mimetype": "text/x-python",
   "name": "python",
   "nbconvert_exporter": "python",
   "pygments_lexer": "ipython3",
   "version": "3.7.6"
  }
 },
 "nbformat": 4,
 "nbformat_minor": 2
}
