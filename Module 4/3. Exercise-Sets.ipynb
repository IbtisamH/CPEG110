{
 "cells": [
  {
   "cell_type": "markdown",
   "metadata": {},
   "source": [
    "# Sets Exercise"
   ]
  },
  {
   "cell_type": "code",
   "execution_count": null,
   "metadata": {},
   "outputs": [],
   "source": [
    "# 1. Write a Python program to add and remove item(s) from set\n",
    "# Sample set st = {1,2,3,4,5}\n",
    "# Add st = {1,2,3,4,5,66}\n",
    "# Remove st = {2,3,4,5,66}\n"
   ]
  },
  {
   "cell_type": "code",
   "execution_count": null,
   "metadata": {},
   "outputs": [],
   "source": [
    "# 2. Write a Python program to add two sets\n",
    "# st1 = {1,2,3,4,5}\n",
    "# st2 = {1,3,5,7,9}\n",
    "# Result = {1,2,3,4,5,7,9}"
   ]
  },
  {
   "cell_type": "code",
   "execution_count": 1,
   "metadata": {},
   "outputs": [],
   "source": [
    "# 3. Write a Python program to iterate over sets."
   ]
  },
  {
   "cell_type": "code",
   "execution_count": null,
   "metadata": {},
   "outputs": [],
   "source": [
    "# 4. Write a python program to find the number of unique elements in a list using set\n",
    "# lst = [1,1,2,2,3,4,4,5,5,6,7,8,9]"
   ]
  },
  {
   "cell_type": "code",
   "execution_count": null,
   "metadata": {},
   "outputs": [],
   "source": [
    "# 5. Write a Python program to create an intersection of sets\n",
    "# st1 = {1,2,3,4,5}\n",
    "# st2 = {1,3,5,7,9}\n",
    "# Result = {1,3,5}"
   ]
  }
 ],
 "metadata": {
  "kernelspec": {
   "display_name": "Python 3",
   "language": "python",
   "name": "python3"
  },
  "language_info": {
   "codemirror_mode": {
    "name": "ipython",
    "version": 3
   },
   "file_extension": ".py",
   "mimetype": "text/x-python",
   "name": "python",
   "nbconvert_exporter": "python",
   "pygments_lexer": "ipython3",
   "version": "3.7.6"
  }
 },
 "nbformat": 4,
 "nbformat_minor": 2
}
