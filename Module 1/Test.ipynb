{
 "cells": [
  {
   "cell_type": "markdown",
   "id": "1578668e",
   "metadata": {},
   "source": [
    "# My First Program\n",
    "## Python\n",
    "This is python program"
   ]
  },
  {
   "cell_type": "code",
   "execution_count": 3,
   "id": "e11839f1",
   "metadata": {},
   "outputs": [
    {
     "name": "stdout",
     "output_type": "stream",
     "text": [
      "my loop 0\n",
      "my loop 1\n",
      "my loop 2\n",
      "my loop 3\n",
      "my loop 4\n",
      "my loop 5\n",
      "my loop 6\n",
      "my loop 7\n",
      "my loop 8\n",
      "my loop 9\n"
     ]
    }
   ],
   "source": [
    "for i in range(10):\n",
    "    print(\"my loop \"+str(i))"
   ]
  },
  {
   "cell_type": "code",
   "execution_count": null,
   "id": "174ddbb6",
   "metadata": {},
   "outputs": [],
   "source": []
  }
 ],
 "metadata": {
  "kernelspec": {
   "display_name": "Python 3 (ipykernel)",
   "language": "python",
   "name": "python3"
  },
  "language_info": {
   "codemirror_mode": {
    "name": "ipython",
    "version": 3
   },
   "file_extension": ".py",
   "mimetype": "text/x-python",
   "name": "python",
   "nbconvert_exporter": "python",
   "pygments_lexer": "ipython3",
   "version": "3.10.4"
  }
 },
 "nbformat": 4,
 "nbformat_minor": 5
}
